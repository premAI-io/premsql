{
 "cells": [
  {
   "cell_type": "code",
   "execution_count": 1,
   "metadata": {},
   "outputs": [],
   "source": [
    "import os \n",
    "import sys \n",
    "\n",
    "current_dir = os.getcwd()\n",
    "dir_to_use = os.path.abspath(os.path.join(current_dir, \"..\"))\n",
    "sys.path.append(dir_to_use)"
   ]
  },
  {
   "cell_type": "code",
   "execution_count": 2,
   "metadata": {},
   "outputs": [
    {
     "name": "stderr",
     "output_type": "stream",
     "text": [
      "2024-09-04 00:07:12,991 - [BIRD-DATASET] - INFO - Loaded Bird Dataset\n"
     ]
    }
   ],
   "source": [
    "from premsql.datasets import Text2SQLDataset\n",
    "\n",
    "# load the bird dataset\n",
    "\n",
    "bird_dataset = Text2SQLDataset(\n",
    "    dataset_name='bird', split=\"train\", force_download=False,\n",
    "    dataset_folder=\"../data\"\n",
    ")"
   ]
  },
  {
   "cell_type": "code",
   "execution_count": 3,
   "metadata": {},
   "outputs": [
    {
     "name": "stderr",
     "output_type": "stream",
     "text": [
      "2024-09-04 00:07:13,391 - [BIRD-DATASET] - INFO - Setting up Bird Dataset\n",
      "Applying prompt: 100%|██████████| 3/3 [00:00<00:00, 2845.53it/s]\n",
      "2024-09-04 00:07:14,951 - [DATASET] - INFO - Casted dataset with model chat template\n",
      "2024-09-04 00:07:14,951 - [DATASET] - INFO - Starting Tokenization ...\n",
      "Tokenizing: 100%|██████████| 3/3 [00:00<00:00, 307.93it/s]\n",
      "Tokenizing: 100%|██████████| 3/3 [00:00<00:00, 363.25it/s]\n"
     ]
    }
   ],
   "source": [
    "bird_dataset = bird_dataset.setup_dataset(\n",
    "    model_name_or_path=\"premai-io/prem-1B-SQL\", num_fewshot=3, num_rows=3\n",
    ")"
   ]
  },
  {
   "cell_type": "code",
   "execution_count": 4,
   "metadata": {},
   "outputs": [
    {
     "data": {
      "text/html": [
       "<pre style=\"white-space:pre;overflow-x:auto;line-height:normal;font-family:Menlo,'DejaVu Sans Mono',consolas,'Courier New',monospace\"></pre>\n"
      ],
      "text/plain": []
     },
     "metadata": {},
     "output_type": "display_data"
    },
    {
     "data": {
      "text/plain": [
       "\n",
       "\u001b[1m{\u001b[0m\n",
       "\u001b[2;32m│   \u001b[0m\u001b[32m'input_ids'\u001b[0m: \u001b[1;35mtensor\u001b[0m\u001b[1m(\u001b[0m\u001b[1m[\u001b[0m\u001b[1;36m32013\u001b[0m, \u001b[1;36m32013\u001b[0m,  \u001b[1;36m2042\u001b[0m,  \u001b[33m...\u001b[0m,   \u001b[1;36m207\u001b[0m,    \u001b[1;36m16\u001b[0m, \u001b[1;36m32021\u001b[0m\u001b[1m]\u001b[0m\u001b[1m)\u001b[0m,\n",
       "\u001b[2;32m│   \u001b[0m\u001b[32m'labels'\u001b[0m: \u001b[1;35mtensor\u001b[0m\u001b[1m(\u001b[0m\u001b[1m[\u001b[0m \u001b[1;36m-100\u001b[0m,  \u001b[1;36m-100\u001b[0m,  \u001b[1;36m-100\u001b[0m,  \u001b[33m...\u001b[0m,   \u001b[1;36m207\u001b[0m,    \u001b[1;36m16\u001b[0m, \u001b[1;36m32021\u001b[0m\u001b[1m]\u001b[0m\u001b[1m)\u001b[0m,\n",
       "\u001b[2;32m│   \u001b[0m\u001b[32m'raw'\u001b[0m: \u001b[1m{\u001b[0m\n",
       "\u001b[2;32m│   │   \u001b[0m\u001b[32m'db_id'\u001b[0m: \u001b[32m'movie_platform'\u001b[0m,\n",
       "\u001b[2;32m│   │   \u001b[0m\u001b[32m'question'\u001b[0m: \u001b[32m'Name movie titles released in year 1945. Sort the listing by the descending order of movie popularity.'\u001b[0m,\n",
       "\u001b[2;32m│   │   \u001b[0m\u001b[32m'evidence'\u001b[0m: \u001b[32m'released in the year 1945 refers to movie_release_year = 1945;'\u001b[0m,\n",
       "\u001b[2;32m│   │   \u001b[0m\u001b[32m'SQL'\u001b[0m: \u001b[32m'SELECT movie_title FROM movies WHERE movie_release_year = 1945 ORDER BY movie_popularity DESC LIMIT 1'\u001b[0m,\n",
       "\u001b[2;32m│   │   \u001b[0m\u001b[32m'db_path'\u001b[0m: \u001b[32m'../data/bird/train/train_databases/movie_platform/movie_platform.sqlite'\u001b[0m,\n",
       "\u001b[2;32m│   │   \u001b[0m\u001b[32m'prompt'\u001b[0m: \u001b[32m'\u001b[0m\u001b[32m<\u001b[0m\u001b[32m｜begin▁of▁sentence｜\u001b[0m\u001b[32m>\u001b[0m\u001b[32mYou are an AI programming assistant, utilizing the Deepseek Coder model, developed by Deepseek Company, and you only answer questions related to computer science. For politically sensitive questions, security and privacy issues, and other non-computer science questions, you will refuse to answer\\n### Instruction:\\n\\n# Follow these instruction:\\nYou will be given schemas of tables of a database. Your job is to write correct\\nerror free SQL query based on the question asked. Please make sure:\\n\\n1. Do not add ``` at start / end of the query. It should be a single line query in a  single line \u001b[0m\u001b[32m(\u001b[0m\u001b[32mstring format\u001b[0m\u001b[32m)\u001b[0m\u001b[32m\\n2. Make sure the column names are correct and exists in the table\\n3. For column names which has a space with it, make sure you have put `` in that column name\\n4. Think step by step and always check schema and question and the column names before writing the\\nquery. \\n\\n# Database and Table Schema:\\nCREATE TABLE \"lists\"\\n\u001b[0m\u001b[32m(\u001b[0m\u001b[32m\\n    user_id                     INTEGER\\n        references lists_users \u001b[0m\u001b[32m(\u001b[0m\u001b[32muser_id\u001b[0m\u001b[32m)\u001b[0m\u001b[32m,\\n    list_id                     INTEGER not null\\n        primary key,\\n    list_title                  TEXT,\\n    list_movie_number           INTEGER,\\n    list_update_timestamp_utc   TEXT,\\n    list_creation_timestamp_utc TEXT,\\n    list_followers              INTEGER,\\n    list_url                    TEXT,\\n    list_comments               INTEGER,\\n    list_description            TEXT,\\n    list_cover_image_url        TEXT,\\n    list_first_image_url        TEXT,\\n    list_second_image_url       TEXT,\\n    list_third_image_url        TEXT\\n\u001b[0m\u001b[32m)\u001b[0m\u001b[32m\\nCREATE TABLE \"movies\"\\n\u001b[0m\u001b[32m(\u001b[0m\u001b[32m\\n    movie_id             INTEGER not null\\n        primary key,\\n    movie_title          TEXT,\\n    movie_release_year   INTEGER,\\n    movie_url            TEXT,\\n    movie_title_language TEXT,\\n    movie_popularity     INTEGER,\\n    movie_image_url      TEXT,\\n    director_id          TEXT,\\n    director_name        TEXT,\\n    director_url         TEXT\\n\u001b[0m\u001b[32m)\u001b[0m\u001b[32m\\nCREATE TABLE \"ratings_users\"\\n\u001b[0m\u001b[32m(\u001b[0m\u001b[32m\\n    user_id                 INTEGER\\n        references lists_users \u001b[0m\u001b[32m(\u001b[0m\u001b[32muser_id\u001b[0m\u001b[32m)\u001b[0m\u001b[32m,\\n    rating_date_utc         TEXT,\\n    user_trialist           INTEGER,\\n    user_subscriber         INTEGER,\\n    user_avatar_image_url   TEXT,\\n    user_cover_image_url    TEXT,\\n    user_eligible_for_trial INTEGER,\\n    user_has_payment_method INTEGER\\n\u001b[0m\u001b[32m)\u001b[0m\u001b[32m\\nCREATE TABLE lists_users\\n\u001b[0m\u001b[32m(\u001b[0m\u001b[32m\\n    user_id                 INTEGER not null ,\\n    list_id                 INTEGER not null ,\\n    list_update_date_utc    TEXT,\\n    list_creation_date_utc  TEXT,\\n    user_trialist           INTEGER,\\n    user_subscriber         INTEGER,\\n    user_avatar_image_url   TEXT,\\n    user_cover_image_url    TEXT,\\n    user_eligible_for_trial TEXT,\\n    user_has_payment_method TEXT,\\n    primary key \u001b[0m\u001b[32m(\u001b[0m\u001b[32muser_id, list_id\u001b[0m\u001b[32m)\u001b[0m\u001b[32m,\\n    foreign key \u001b[0m\u001b[32m(\u001b[0m\u001b[32mlist_id\u001b[0m\u001b[32m)\u001b[0m\u001b[32m references lists\u001b[0m\u001b[32m(\u001b[0m\u001b[32mlist_id\u001b[0m\u001b[32m)\u001b[0m\u001b[32m,\\n    foreign key \u001b[0m\u001b[32m(\u001b[0m\u001b[32muser_id\u001b[0m\u001b[32m)\u001b[0m\u001b[32m references lists\u001b[0m\u001b[32m(\u001b[0m\u001b[32muser_id\u001b[0m\u001b[32m)\u001b[0m\u001b[32m\\n\u001b[0m\u001b[32m)\u001b[0m\u001b[32m\\nCREATE TABLE ratings\\n\u001b[0m\u001b[32m(\u001b[0m\u001b[32m\\n    movie_id                INTEGER,\\n    rating_id               INTEGER,\\n    rating_url              TEXT,\\n    rating_score            INTEGER,\\n    rating_timestamp_utc    TEXT,\\n    critic                  TEXT,\\n    critic_likes            INTEGER,\\n    critic_comments         INTEGER,\\n    user_id                 INTEGER,\\n    user_trialist           INTEGER,\\n    user_subscriber         INTEGER,\\n    user_eligible_for_trial INTEGER,\\n    user_has_payment_method INTEGER,\\n    foreign key \u001b[0m\u001b[32m(\u001b[0m\u001b[32mmovie_id\u001b[0m\u001b[32m)\u001b[0m\u001b[32m references movies\u001b[0m\u001b[32m(\u001b[0m\u001b[32mmovie_id\u001b[0m\u001b[32m)\u001b[0m\u001b[32m,\\n    foreign key \u001b[0m\u001b[32m(\u001b[0m\u001b[32muser_id\u001b[0m\u001b[32m)\u001b[0m\u001b[32m references lists_users\u001b[0m\u001b[32m(\u001b[0m\u001b[32muser_id\u001b[0m\u001b[32m)\u001b[0m\u001b[32m,\\n    foreign key \u001b[0m\u001b[32m(\u001b[0m\u001b[32mrating_id\u001b[0m\u001b[32m)\u001b[0m\u001b[32m references ratings\u001b[0m\u001b[32m(\u001b[0m\u001b[32mrating_id\u001b[0m\u001b[32m)\u001b[0m\u001b[32m,\\n    foreign key \u001b[0m\u001b[32m(\u001b[0m\u001b[32muser_id\u001b[0m\u001b[32m)\u001b[0m\u001b[32m references ratings_users\u001b[0m\u001b[32m(\u001b[0m\u001b[32muser_id\u001b[0m\u001b[32m)\u001b[0m\u001b[32m\\n\u001b[0m\u001b[32m)\u001b[0m\u001b[32m\\n\\n\\n\\n# Here are some Examples on how to generate SQL statements and use column names:\\n\\nQuestion: State the most popular movie? When was it released and who is the director for the movie?\\nSQL: SELECT movie_title, movie_release_year, director_name FROM movies ORDER BY movie_popularity DESC LIMIT 1 \\n\\nQuestion: What is the name of the longest movie title? When was it released?\\nSQL: SELECT movie_title, movie_release_year FROM movies ORDER BY LENGTH\u001b[0m\u001b[32m(\u001b[0m\u001b[32mmovie_popularity\u001b[0m\u001b[32m)\u001b[0m\u001b[32m DESC LIMIT 1\\n\\nQuestion: Name movie titles released in year 1945. Sort the listing by the descending order of movie popularity.\\nSQL: SELECT movie_title FROM movies WHERE movie_release_year = 1945 ORDER BY movie_popularity DESC LIMIT 1\\n\\n\\n# Question: Name movie titles released in year 1945. Sort the listing by the descending order of movie popularity.\\n\\n# SQL: \\n\\n'\u001b[0m\n",
       "\u001b[2;32m│   \u001b[0m\u001b[1m}\u001b[0m\n",
       "\u001b[1m}\u001b[0m"
      ]
     },
     "execution_count": 4,
     "metadata": {},
     "output_type": "execute_result"
    }
   ],
   "source": [
    "bird_dataset[0]"
   ]
  },
  {
   "cell_type": "code",
   "execution_count": 5,
   "metadata": {},
   "outputs": [
    {
     "name": "stderr",
     "output_type": "stream",
     "text": [
      "2024-09-04 00:07:16,667 - [SPIDER-DATASET] - INFO - Loaded Spider Dataset\n",
      "2024-09-04 00:07:16,671 - [SPIDER-DATASET] - INFO - Setting up Spider Dataset\n",
      "Applying prompt: 100%|██████████| 3/3 [00:00<00:00, 312.98it/s]\n",
      "2024-09-04 00:07:17,050 - [DATASET] - INFO - Casted dataset with model chat template\n",
      "2024-09-04 00:07:17,050 - [DATASET] - INFO - Starting Tokenization ...\n",
      "Tokenizing: 100%|██████████| 3/3 [00:00<00:00, 561.14it/s]\n",
      "Tokenizing: 100%|██████████| 3/3 [00:00<00:00, 716.53it/s]\n"
     ]
    },
    {
     "data": {
      "text/html": [
       "<pre style=\"white-space:pre;overflow-x:auto;line-height:normal;font-family:Menlo,'DejaVu Sans Mono',consolas,'Courier New',monospace\"></pre>\n"
      ],
      "text/plain": []
     },
     "metadata": {},
     "output_type": "display_data"
    },
    {
     "data": {
      "text/plain": [
       "\n",
       "\u001b[1m{\u001b[0m\n",
       "\u001b[2;32m│   \u001b[0m\u001b[32m'input_ids'\u001b[0m: \u001b[1;35mtensor\u001b[0m\u001b[1m(\u001b[0m\u001b[1m[\u001b[0m\u001b[1;36m32013\u001b[0m, \u001b[1;36m32013\u001b[0m,  \u001b[1;36m2042\u001b[0m,   \u001b[1;36m417\u001b[0m,   \u001b[1;36m274\u001b[0m, \u001b[1;36m20926\u001b[0m, \u001b[1;36m14244\u001b[0m, \u001b[1;36m20391\u001b[0m,    \u001b[1;36m11\u001b[0m, \u001b[1;36m26696\u001b[0m,\n",
       "\u001b[2;32m│   │     \u001b[0m\u001b[1;36m254\u001b[0m, \u001b[1;36m20676\u001b[0m, \u001b[1;36m30742\u001b[0m,   \u001b[1;36m339\u001b[0m,  \u001b[1;36m8589\u001b[0m,  \u001b[1;36m2008\u001b[0m,    \u001b[1;36m11\u001b[0m,  \u001b[1;36m6908\u001b[0m,   \u001b[1;36m457\u001b[0m, \u001b[1;36m20676\u001b[0m,\n",
       "\u001b[2;32m│   │   \u001b[0m\u001b[1;36m30742\u001b[0m,  \u001b[1;36m7958\u001b[0m,    \u001b[1;36m11\u001b[0m,   \u001b[1;36m285\u001b[0m,   \u001b[1;36m340\u001b[0m,   \u001b[1;36m885\u001b[0m,  \u001b[1;36m3495\u001b[0m,  \u001b[1;36m4301\u001b[0m,  \u001b[1;36m4512\u001b[0m,   \u001b[1;36m276\u001b[0m,\n",
       "\u001b[2;32m│   │    \u001b[0m\u001b[1;36m4531\u001b[0m,  \u001b[1;36m8214\u001b[0m,    \u001b[1;36m13\u001b[0m,  \u001b[1;36m1487\u001b[0m,  \u001b[1;36m4636\u001b[0m,  \u001b[1;36m2223\u001b[0m, \u001b[1;36m13143\u001b[0m,  \u001b[1;36m4301\u001b[0m,    \u001b[1;36m11\u001b[0m,  \u001b[1;36m5411\u001b[0m,\n",
       "\u001b[2;32m│   │     \u001b[0m\u001b[1;36m285\u001b[0m, \u001b[1;36m13936\u001b[0m,  \u001b[1;36m4447\u001b[0m,    \u001b[1;36m11\u001b[0m,   \u001b[1;36m285\u001b[0m,   \u001b[1;36m746\u001b[0m,  \u001b[1;36m2159\u001b[0m,    \u001b[1;36m12\u001b[0m, \u001b[1;36m13517\u001b[0m,   \u001b[1;36m250\u001b[0m,\n",
       "\u001b[2;32m│   │    \u001b[0m\u001b[1;36m8214\u001b[0m,  \u001b[1;36m4301\u001b[0m,    \u001b[1;36m11\u001b[0m,   \u001b[1;36m340\u001b[0m,   \u001b[1;36m540\u001b[0m, \u001b[1;36m20857\u001b[0m,   \u001b[1;36m276\u001b[0m,  \u001b[1;36m3495\u001b[0m,   \u001b[1;36m185\u001b[0m, \u001b[1;36m13518\u001b[0m,\n",
       "\u001b[2;32m│   │    \u001b[0m\u001b[1;36m3649\u001b[0m,  \u001b[1;36m3475\u001b[0m,    \u001b[1;36m25\u001b[0m,   \u001b[1;36m185\u001b[0m,   \u001b[1;36m185\u001b[0m,     \u001b[1;36m2\u001b[0m, \u001b[1;36m23114\u001b[0m,  \u001b[1;36m1067\u001b[0m, \u001b[1;36m12271\u001b[0m,    \u001b[1;36m25\u001b[0m,\n",
       "\u001b[2;32m│   │     \u001b[0m\u001b[1;36m185\u001b[0m,  \u001b[1;36m2042\u001b[0m,   \u001b[1;36m540\u001b[0m,   \u001b[1;36m330\u001b[0m,  \u001b[1;36m2017\u001b[0m,  \u001b[1;36m3947\u001b[0m,  \u001b[1;36m5202\u001b[0m,   \u001b[1;36m280\u001b[0m,  \u001b[1;36m7214\u001b[0m,   \u001b[1;36m280\u001b[0m,\n",
       "\u001b[2;32m│   │     \u001b[0m\u001b[1;36m245\u001b[0m,  \u001b[1;36m4892\u001b[0m,    \u001b[1;36m13\u001b[0m,  \u001b[1;36m4506\u001b[0m,  \u001b[1;36m3100\u001b[0m,   \u001b[1;36m317\u001b[0m,   \u001b[1;36m276\u001b[0m,  \u001b[1;36m3697\u001b[0m,  \u001b[1;36m2907\u001b[0m,   \u001b[1;36m185\u001b[0m,\n",
       "\u001b[2;32m│   │    \u001b[0m\u001b[1;36m4014\u001b[0m,  \u001b[1;36m2082\u001b[0m,  \u001b[1;36m5975\u001b[0m,  \u001b[1;36m5151\u001b[0m,  \u001b[1;36m2842\u001b[0m,   \u001b[1;36m331\u001b[0m,   \u001b[1;36m254\u001b[0m,  \u001b[1;36m2503\u001b[0m,  \u001b[1;36m3625\u001b[0m,    \u001b[1;36m13\u001b[0m,\n",
       "\u001b[2;32m│   │    \u001b[0m\u001b[1;36m6456\u001b[0m,  \u001b[1;36m1098\u001b[0m,  \u001b[1;36m2037\u001b[0m,    \u001b[1;36m25\u001b[0m,   \u001b[1;36m185\u001b[0m,   \u001b[1;36m185\u001b[0m,    \u001b[1;36m16\u001b[0m,    \u001b[1;36m13\u001b[0m,  \u001b[1;36m3119\u001b[0m,   \u001b[1;36m441\u001b[0m,\n",
       "\u001b[2;32m│   │     \u001b[0m\u001b[1;36m957\u001b[0m,  \u001b[1;36m2220\u001b[0m,  \u001b[1;36m4686\u001b[0m,   \u001b[1;36m429\u001b[0m,  \u001b[1;36m1328\u001b[0m,   \u001b[1;36m889\u001b[0m,  \u001b[1;36m1223\u001b[0m,   \u001b[1;36m280\u001b[0m,   \u001b[1;36m254\u001b[0m,  \u001b[1;36m5151\u001b[0m,\n",
       "\u001b[2;32m│   │      \u001b[0m\u001b[1;36m13\u001b[0m,   \u001b[1;36m804\u001b[0m,  \u001b[1;36m1020\u001b[0m,   \u001b[1;36m330\u001b[0m,   \u001b[1;36m245\u001b[0m,  \u001b[1;36m2805\u001b[0m,  \u001b[1;36m1348\u001b[0m,  \u001b[1;36m5151\u001b[0m,   \u001b[1;36m279\u001b[0m,   \u001b[1;36m245\u001b[0m,\n",
       "\u001b[2;32m│   │     \u001b[0m\u001b[1;36m207\u001b[0m,  \u001b[1;36m2805\u001b[0m,  \u001b[1;36m1348\u001b[0m,   \u001b[1;36m334\u001b[0m,  \u001b[1;36m2600\u001b[0m,  \u001b[1;36m4797\u001b[0m,     \u001b[1;36m8\u001b[0m,   \u001b[1;36m185\u001b[0m,    \u001b[1;36m17\u001b[0m,    \u001b[1;36m13\u001b[0m,\n",
       "\u001b[2;32m│   │    \u001b[0m\u001b[1;36m8518\u001b[0m,  \u001b[1;36m2037\u001b[0m,   \u001b[1;36m254\u001b[0m,  \u001b[1;36m3812\u001b[0m,  \u001b[1;36m4761\u001b[0m,   \u001b[1;36m417\u001b[0m,  \u001b[1;36m2907\u001b[0m,   \u001b[1;36m285\u001b[0m,  \u001b[1;36m6051\u001b[0m,   \u001b[1;36m279\u001b[0m,\n",
       "\u001b[2;32m│   │     \u001b[0m\u001b[1;36m254\u001b[0m,  \u001b[1;36m2365\u001b[0m,   \u001b[1;36m185\u001b[0m,    \u001b[1;36m18\u001b[0m,    \u001b[1;36m13\u001b[0m,  \u001b[1;36m1487\u001b[0m,  \u001b[1;36m3812\u001b[0m,  \u001b[1;36m4761\u001b[0m,   \u001b[1;36m585\u001b[0m,   \u001b[1;36m638\u001b[0m,\n",
       "\u001b[2;32m│   │     \u001b[0m\u001b[1;36m245\u001b[0m,  \u001b[1;36m2507\u001b[0m,   \u001b[1;36m365\u001b[0m,   \u001b[1;36m359\u001b[0m,    \u001b[1;36m11\u001b[0m,  \u001b[1;36m1098\u001b[0m,  \u001b[1;36m2037\u001b[0m,   \u001b[1;36m340\u001b[0m,   \u001b[1;36m463\u001b[0m,  \u001b[1;36m1947\u001b[0m,\n",
       "\u001b[2;32m│   │    \u001b[0m\u001b[1;36m6236\u001b[0m,   \u001b[1;36m279\u001b[0m,   \u001b[1;36m344\u001b[0m,  \u001b[1;36m3812\u001b[0m,  \u001b[1;36m1208\u001b[0m,   \u001b[1;36m185\u001b[0m,    \u001b[1;36m19\u001b[0m,    \u001b[1;36m13\u001b[0m, \u001b[1;36m18618\u001b[0m,  \u001b[1;36m3443\u001b[0m,\n",
       "\u001b[2;32m│   │     \u001b[0m\u001b[1;36m457\u001b[0m,  \u001b[1;36m3443\u001b[0m,   \u001b[1;36m285\u001b[0m,  \u001b[1;36m1948\u001b[0m,  \u001b[1;36m2332\u001b[0m, \u001b[1;36m16135\u001b[0m,   \u001b[1;36m285\u001b[0m,  \u001b[1;36m2503\u001b[0m,   \u001b[1;36m285\u001b[0m,   \u001b[1;36m254\u001b[0m,\n",
       "\u001b[2;32m│   │    \u001b[0m\u001b[1;36m3812\u001b[0m,  \u001b[1;36m4761\u001b[0m,  \u001b[1;36m1321\u001b[0m,  \u001b[1;36m4445\u001b[0m,   \u001b[1;36m254\u001b[0m,   \u001b[1;36m185\u001b[0m,  \u001b[1;36m5112\u001b[0m,    \u001b[1;36m13\u001b[0m,   \u001b[1;36m207\u001b[0m,   \u001b[1;36m185\u001b[0m,\n",
       "\u001b[2;32m│   │     \u001b[0m\u001b[1;36m185\u001b[0m,     \u001b[1;36m2\u001b[0m, \u001b[1;36m17984\u001b[0m,   \u001b[1;36m285\u001b[0m,  \u001b[1;36m6922\u001b[0m, \u001b[1;36m11593\u001b[0m,   \u001b[1;36m732\u001b[0m,    \u001b[1;36m25\u001b[0m,   \u001b[1;36m185\u001b[0m, \u001b[1;36m13403\u001b[0m,\n",
       "\u001b[2;32m│   │   \u001b[0m\u001b[1;36m11866\u001b[0m,  \u001b[1;36m2220\u001b[0m,   \u001b[1;36m292\u001b[0m, \u001b[1;36m20173\u001b[0m,    \u001b[1;36m63\u001b[0m,   \u001b[1;36m334\u001b[0m,    \u001b[1;36m63\u001b[0m,  \u001b[1;36m1201\u001b[0m, \u001b[1;36m20173\u001b[0m,    \u001b[1;36m62\u001b[0m,\n",
       "\u001b[2;32m│   │    \u001b[0m\u001b[1;36m1796\u001b[0m,    \u001b[1;36m63\u001b[0m,  \u001b[1;36m1097\u001b[0m,    \u001b[1;36m11\u001b[0m,    \u001b[1;36m63\u001b[0m, \u001b[1;36m10280\u001b[0m,    \u001b[1;36m63\u001b[0m,  \u001b[1;36m2422\u001b[0m,    \u001b[1;36m11\u001b[0m,    \u001b[1;36m63\u001b[0m,\n",
       "\u001b[2;32m│   │    \u001b[0m\u001b[1;36m1737\u001b[0m,    \u001b[1;36m63\u001b[0m,  \u001b[1;36m2422\u001b[0m,    \u001b[1;36m11\u001b[0m,    \u001b[1;36m63\u001b[0m, \u001b[1;36m11715\u001b[0m,  \u001b[1;36m8768\u001b[0m,    \u001b[1;36m63\u001b[0m,  \u001b[1;36m1097\u001b[0m,    \u001b[1;36m11\u001b[0m,\n",
       "\u001b[2;32m│   │      \u001b[0m\u001b[1;36m63\u001b[0m,    \u001b[1;36m39\u001b[0m,   \u001b[1;36m311\u001b[0m,  \u001b[1;36m6250\u001b[0m,    \u001b[1;36m63\u001b[0m,  \u001b[1;36m1097\u001b[0m,    \u001b[1;36m11\u001b[0m,    \u001b[1;36m63\u001b[0m, \u001b[1;36m25414\u001b[0m,   \u001b[1;36m370\u001b[0m,\n",
       "\u001b[2;32m│   │      \u001b[0m\u001b[1;36m63\u001b[0m,  \u001b[1;36m1097\u001b[0m,    \u001b[1;36m11\u001b[0m,    \u001b[1;36m63\u001b[0m,    \u001b[1;36m32\u001b[0m,  \u001b[1;36m3557\u001b[0m,    \u001b[1;36m63\u001b[0m,  \u001b[1;36m1097\u001b[0m,    \u001b[1;36m11\u001b[0m,  \u001b[1;36m7690\u001b[0m,\n",
       "\u001b[2;32m│   │   \u001b[0m\u001b[1;36m21082\u001b[0m, \u001b[1;36m14356\u001b[0m,   \u001b[1;36m334\u001b[0m,    \u001b[1;36m63\u001b[0m,  \u001b[1;36m1201\u001b[0m, \u001b[1;36m20173\u001b[0m,    \u001b[1;36m62\u001b[0m,  \u001b[1;36m1796\u001b[0m,    \u001b[1;36m63\u001b[0m,  \u001b[1;36m1435\u001b[0m,\n",
       "\u001b[2;32m│   │     \u001b[0m\u001b[1;36m185\u001b[0m, \u001b[1;36m13403\u001b[0m, \u001b[1;36m11866\u001b[0m,   \u001b[1;36m440\u001b[0m,  \u001b[1;36m4276\u001b[0m,   \u001b[1;36m250\u001b[0m,     \u001b[1;36m1\u001b[0m,  \u001b[1;36m8507\u001b[0m,    \u001b[1;36m50\u001b[0m,  \u001b[1;36m6640\u001b[0m,\n",
       "\u001b[2;32m│   │      \u001b[0m\u001b[1;36m62\u001b[0m,  \u001b[1;36m1796\u001b[0m,     \u001b[1;36m1\u001b[0m,  \u001b[1;36m1097\u001b[0m,  \u001b[1;36m1083\u001b[0m,  \u001b[1;36m1737\u001b[0m,     \u001b[1;36m1\u001b[0m,  \u001b[1;36m2422\u001b[0m,  \u001b[1;36m1083\u001b[0m, \u001b[1;36m27869\u001b[0m,\n",
       "\u001b[2;32m│   │   │   \u001b[0m\u001b[1;36m1\u001b[0m,  \u001b[1;36m2422\u001b[0m,  \u001b[1;36m1083\u001b[0m,    \u001b[1;36m50\u001b[0m,   \u001b[1;36m592\u001b[0m,    \u001b[1;36m62\u001b[0m,  \u001b[1;36m1737\u001b[0m,     \u001b[1;36m1\u001b[0m,  \u001b[1;36m2422\u001b[0m,  \u001b[1;36m1083\u001b[0m,\n",
       "\u001b[2;32m│   │      \u001b[0m\u001b[1;36m50\u001b[0m,   \u001b[1;36m592\u001b[0m,    \u001b[1;36m62\u001b[0m, \u001b[1;36m17498\u001b[0m,    \u001b[1;36m62\u001b[0m,  \u001b[1;36m5456\u001b[0m,     \u001b[1;36m1\u001b[0m,  \u001b[1;36m2422\u001b[0m,  \u001b[1;36m1083\u001b[0m,    \u001b[1;36m33\u001b[0m,\n",
       "\u001b[2;32m│   │    \u001b[0m\u001b[1;36m5762\u001b[0m,  \u001b[1;36m1351\u001b[0m,     \u001b[1;36m1\u001b[0m,   \u001b[1;36m323\u001b[0m, \u001b[1;36m10920\u001b[0m,  \u001b[1;36m1428\u001b[0m, \u001b[1;36m17483\u001b[0m,  \u001b[1;36m1083\u001b[0m,  \u001b[1;36m3098\u001b[0m,    \u001b[1;36m62\u001b[0m,\n",
       "\u001b[2;32m│   │      \u001b[0m\u001b[1;36m76\u001b[0m,  \u001b[1;36m1422\u001b[0m,     \u001b[1;36m1\u001b[0m,  \u001b[1;36m6921\u001b[0m,    \u001b[1;36m11\u001b[0m,  \u001b[1;36m7690\u001b[0m, \u001b[1;36m21082\u001b[0m, \u001b[1;36m14356\u001b[0m,  \u001b[1;36m8507\u001b[0m,    \u001b[1;36m50\u001b[0m,\n",
       "\u001b[2;32m│   │    \u001b[0m\u001b[1;36m6640\u001b[0m,    \u001b[1;36m62\u001b[0m,  \u001b[1;36m1796\u001b[0m, \u001b[1;36m12064\u001b[0m,   \u001b[1;36m185\u001b[0m, \u001b[1;36m13403\u001b[0m, \u001b[1;36m11866\u001b[0m,   \u001b[1;36m440\u001b[0m,   \u001b[1;36m564\u001b[0m, \u001b[1;36m13850\u001b[0m,\n",
       "\u001b[2;32m│   │   │   \u001b[0m\u001b[1;36m1\u001b[0m,  \u001b[1;36m8507\u001b[0m,   \u001b[1;36m564\u001b[0m, \u001b[1;36m13850\u001b[0m,    \u001b[1;36m62\u001b[0m,  \u001b[1;36m1796\u001b[0m,     \u001b[1;36m1\u001b[0m,  \u001b[1;36m1097\u001b[0m,  \u001b[1;36m1083\u001b[0m,   \u001b[1;36m564\u001b[0m,\n",
       "\u001b[2;32m│   │   \u001b[0m\u001b[1;36m13850\u001b[0m,    \u001b[1;36m62\u001b[0m,  \u001b[1;36m1737\u001b[0m,     \u001b[1;36m1\u001b[0m,  \u001b[1;36m2422\u001b[0m,  \u001b[1;36m1083\u001b[0m, \u001b[1;36m29338\u001b[0m,     \u001b[1;36m1\u001b[0m,  \u001b[1;36m2422\u001b[0m,  \u001b[1;36m1083\u001b[0m,\n",
       "\u001b[2;32m│   │    \u001b[0m\u001b[1;36m1201\u001b[0m, \u001b[1;36m20173\u001b[0m,    \u001b[1;36m62\u001b[0m,  \u001b[1;36m1796\u001b[0m,     \u001b[1;36m1\u001b[0m,  \u001b[1;36m2422\u001b[0m,  \u001b[1;36m1083\u001b[0m, \u001b[1;36m22593\u001b[0m,     \u001b[1;36m1\u001b[0m,  \u001b[1;36m2422\u001b[0m,\n",
       "\u001b[2;32m│   │      \u001b[0m\u001b[1;36m11\u001b[0m,  \u001b[1;36m7690\u001b[0m, \u001b[1;36m21082\u001b[0m, \u001b[1;36m14356\u001b[0m,  \u001b[1;36m8507\u001b[0m,   \u001b[1;36m564\u001b[0m, \u001b[1;36m13850\u001b[0m,    \u001b[1;36m62\u001b[0m,  \u001b[1;36m1796\u001b[0m,  \u001b[1;36m8472\u001b[0m,\n",
       "\u001b[2;32m│   │    \u001b[0m\u001b[1;36m8275\u001b[0m,  \u001b[1;36m1369\u001b[0m, \u001b[1;36m10000\u001b[0m, \u001b[1;36m14356\u001b[0m,  \u001b[1;36m8507\u001b[0m,  \u001b[1;36m1201\u001b[0m, \u001b[1;36m20173\u001b[0m,    \u001b[1;36m62\u001b[0m,  \u001b[1;36m1796\u001b[0m,  \u001b[1;36m2456\u001b[0m,\n",
       "\u001b[2;32m│   │    \u001b[0m\u001b[1;36m5878\u001b[0m, \u001b[1;36m29294\u001b[0m, \u001b[1;36m22554\u001b[0m,  \u001b[1;36m2718\u001b[0m,   \u001b[1;36m440\u001b[0m,   \u001b[1;36m292\u001b[0m, \u001b[1;36m20173\u001b[0m,     \u001b[1;36m1\u001b[0m,  \u001b[1;36m1195\u001b[0m,  \u001b[1;36m1201\u001b[0m,\n",
       "\u001b[2;32m│   │   \u001b[0m\u001b[1;36m20173\u001b[0m,    \u001b[1;36m62\u001b[0m,  \u001b[1;36m1796\u001b[0m, \u001b[1;36m12064\u001b[0m,   \u001b[1;36m185\u001b[0m, \u001b[1;36m13403\u001b[0m, \u001b[1;36m11866\u001b[0m,   \u001b[1;36m440\u001b[0m,  \u001b[1;36m4276\u001b[0m,   \u001b[1;36m250\u001b[0m,\n",
       "\u001b[2;32m│   │      \u001b[0m\u001b[1;36m62\u001b[0m,   \u001b[1;36m246\u001b[0m,    \u001b[1;36m62\u001b[0m,   \u001b[1;36m564\u001b[0m, \u001b[1;36m13850\u001b[0m,     \u001b[1;36m1\u001b[0m,  \u001b[1;36m8507\u001b[0m,   \u001b[1;36m564\u001b[0m, \u001b[1;36m13850\u001b[0m,    \u001b[1;36m62\u001b[0m,\n",
       "\u001b[2;32m│   │    \u001b[0m\u001b[1;36m1796\u001b[0m,     \u001b[1;36m1\u001b[0m,  \u001b[1;36m1097\u001b[0m,  \u001b[1;36m1083\u001b[0m,    \u001b[1;36m50\u001b[0m,  \u001b[1;36m6640\u001b[0m,    \u001b[1;36m62\u001b[0m,  \u001b[1;36m1796\u001b[0m,     \u001b[1;36m1\u001b[0m,  \u001b[1;36m2422\u001b[0m,\n",
       "\u001b[2;32m│   │      \u001b[0m\u001b[1;36m11\u001b[0m,  \u001b[1;36m7690\u001b[0m, \u001b[1;36m21082\u001b[0m, \u001b[1;36m14356\u001b[0m,  \u001b[1;36m8507\u001b[0m,   \u001b[1;36m564\u001b[0m, \u001b[1;36m13850\u001b[0m,    \u001b[1;36m62\u001b[0m,  \u001b[1;36m1796\u001b[0m,  \u001b[1;36m8816\u001b[0m,\n",
       "\u001b[2;32m│   │      \u001b[0m\u001b[1;36m50\u001b[0m,  \u001b[1;36m6640\u001b[0m,    \u001b[1;36m62\u001b[0m,  \u001b[1;36m1796\u001b[0m,  \u001b[1;36m8472\u001b[0m,  \u001b[1;36m8275\u001b[0m,  \u001b[1;36m1369\u001b[0m, \u001b[1;36m10000\u001b[0m, \u001b[1;36m14356\u001b[0m,  \u001b[1;36m8507\u001b[0m,\n",
       "\u001b[2;32m│   │     \u001b[0m\u001b[1;36m564\u001b[0m, \u001b[1;36m13850\u001b[0m,    \u001b[1;36m62\u001b[0m,  \u001b[1;36m1796\u001b[0m,  \u001b[1;36m2456\u001b[0m,  \u001b[1;36m5878\u001b[0m, \u001b[1;36m29294\u001b[0m, \u001b[1;36m22554\u001b[0m,  \u001b[1;36m2718\u001b[0m,   \u001b[1;36m440\u001b[0m,\n",
       "\u001b[2;32m│   │     \u001b[0m\u001b[1;36m564\u001b[0m, \u001b[1;36m13850\u001b[0m,     \u001b[1;36m1\u001b[0m,  \u001b[1;36m1195\u001b[0m,   \u001b[1;36m564\u001b[0m, \u001b[1;36m13850\u001b[0m,    \u001b[1;36m62\u001b[0m,  \u001b[1;36m1796\u001b[0m,  \u001b[1;36m8472\u001b[0m,  \u001b[1;36m8275\u001b[0m,\n",
       "\u001b[2;32m│   │    \u001b[0m\u001b[1;36m1369\u001b[0m, \u001b[1;36m10000\u001b[0m, \u001b[1;36m14356\u001b[0m,  \u001b[1;36m8507\u001b[0m,    \u001b[1;36m50\u001b[0m,  \u001b[1;36m6640\u001b[0m,    \u001b[1;36m62\u001b[0m,  \u001b[1;36m1796\u001b[0m,  \u001b[1;36m2456\u001b[0m,  \u001b[1;36m5878\u001b[0m,\n",
       "\u001b[2;32m│   │   \u001b[0m\u001b[1;36m29294\u001b[0m, \u001b[1;36m22554\u001b[0m,  \u001b[1;36m2718\u001b[0m,   \u001b[1;36m440\u001b[0m,  \u001b[1;36m4276\u001b[0m,   \u001b[1;36m250\u001b[0m,     \u001b[1;36m1\u001b[0m,  \u001b[1;36m1195\u001b[0m,    \u001b[1;36m50\u001b[0m,  \u001b[1;36m6640\u001b[0m,\n",
       "\u001b[2;32m│   │      \u001b[0m\u001b[1;36m62\u001b[0m,  \u001b[1;36m1796\u001b[0m, \u001b[1;36m12064\u001b[0m,   \u001b[1;36m185\u001b[0m,   \u001b[1;36m185\u001b[0m,   \u001b[1;36m185\u001b[0m,   \u001b[1;36m185\u001b[0m,     \u001b[1;36m2\u001b[0m,  \u001b[1;36m4451\u001b[0m,   \u001b[1;36m417\u001b[0m,\n",
       "\u001b[2;32m│   │     \u001b[0m\u001b[1;36m738\u001b[0m, \u001b[1;36m30609\u001b[0m,   \u001b[1;36m331\u001b[0m,   \u001b[1;36m940\u001b[0m,   \u001b[1;36m276\u001b[0m,  \u001b[1;36m8297\u001b[0m,  \u001b[1;36m5975\u001b[0m, \u001b[1;36m12874\u001b[0m,   \u001b[1;36m285\u001b[0m,   \u001b[1;36m931\u001b[0m,\n",
       "\u001b[2;32m│   │    \u001b[0m\u001b[1;36m3812\u001b[0m,  \u001b[1;36m4761\u001b[0m,    \u001b[1;36m25\u001b[0m,   \u001b[1;36m185\u001b[0m,   \u001b[1;36m185\u001b[0m, \u001b[1;36m23933\u001b[0m,    \u001b[1;36m25\u001b[0m, \u001b[1;36m11116\u001b[0m,  \u001b[1;36m1208\u001b[0m,    \u001b[1;36m11\u001b[0m,\n",
       "\u001b[2;32m│   │    \u001b[0m\u001b[1;36m3073\u001b[0m,   \u001b[1;36m327\u001b[0m,   \u001b[1;36m519\u001b[0m,  \u001b[1;36m2079\u001b[0m,   \u001b[1;36m407\u001b[0m, \u001b[1;36m10138\u001b[0m,   \u001b[1;36m457\u001b[0m,  \u001b[1;36m4489\u001b[0m,   \u001b[1;36m473\u001b[0m,   \u001b[1;36m254\u001b[0m,\n",
       "\u001b[2;32m│   │   \u001b[0m\u001b[1;36m22466\u001b[0m,   \u001b[1;36m276\u001b[0m,   \u001b[1;36m254\u001b[0m,  \u001b[1;36m2812\u001b[0m,   \u001b[1;36m370\u001b[0m,    \u001b[1;36m13\u001b[0m,   \u001b[1;36m185\u001b[0m,  \u001b[1;36m6231\u001b[0m,    \u001b[1;36m25\u001b[0m, \u001b[1;36m11789\u001b[0m,\n",
       "\u001b[2;32m│   │    \u001b[0m\u001b[1;36m1208\u001b[0m,  \u001b[1;36m2039\u001b[0m,   \u001b[1;36m207\u001b[0m,  \u001b[1;36m3073\u001b[0m,   \u001b[1;36m207\u001b[0m,  \u001b[1;36m7432\u001b[0m, \u001b[1;36m24111\u001b[0m, \u001b[1;36m25554\u001b[0m,  \u001b[1;36m9784\u001b[0m, \u001b[1;36m14597\u001b[0m,\n",
       "\u001b[2;32m│   │   \u001b[0m\u001b[1;36m26362\u001b[0m,   \u001b[1;36m185\u001b[0m,   \u001b[1;36m185\u001b[0m, \u001b[1;36m23933\u001b[0m,    \u001b[1;36m25\u001b[0m,  \u001b[1;36m1717\u001b[0m,  \u001b[1;36m1311\u001b[0m,  \u001b[1;36m2079\u001b[0m,   \u001b[1;36m407\u001b[0m,   \u001b[1;36m533\u001b[0m,\n",
       "\u001b[2;32m│   │     \u001b[0m\u001b[1;36m394\u001b[0m,   \u001b[1;36m463\u001b[0m,    \u001b[1;36m30\u001b[0m,   \u001b[1;36m185\u001b[0m,  \u001b[1;36m6231\u001b[0m,    \u001b[1;36m25\u001b[0m, \u001b[1;36m11789\u001b[0m,  \u001b[1;36m1683\u001b[0m,     \u001b[1;36m7\u001b[0m, \u001b[1;36m10230\u001b[0m,\n",
       "\u001b[2;32m│   │    \u001b[0m\u001b[1;36m7432\u001b[0m, \u001b[1;36m24111\u001b[0m,   \u001b[1;36m185\u001b[0m,   \u001b[1;36m185\u001b[0m, \u001b[1;36m23933\u001b[0m,    \u001b[1;36m25\u001b[0m,  \u001b[1;36m2450\u001b[0m,   \u001b[1;36m317\u001b[0m,   \u001b[1;36m254\u001b[0m,  \u001b[1;36m3212\u001b[0m,\n",
       "\u001b[2;32m│   │    \u001b[0m\u001b[1;36m1594\u001b[0m,   \u001b[1;36m280\u001b[0m,  \u001b[1;36m2079\u001b[0m,   \u001b[1;36m407\u001b[0m,    \u001b[1;36m30\u001b[0m,   \u001b[1;36m185\u001b[0m,  \u001b[1;36m6231\u001b[0m,    \u001b[1;36m25\u001b[0m, \u001b[1;36m11789\u001b[0m,  \u001b[1;36m1683\u001b[0m,\n",
       "\u001b[2;32m│   │   │   \u001b[0m\u001b[1;36m7\u001b[0m, \u001b[1;36m10230\u001b[0m,  \u001b[1;36m7432\u001b[0m, \u001b[1;36m24111\u001b[0m,   \u001b[1;36m185\u001b[0m,   \u001b[1;36m185\u001b[0m,   \u001b[1;36m185\u001b[0m,     \u001b[1;36m2\u001b[0m, \u001b[1;36m24417\u001b[0m,    \u001b[1;36m25\u001b[0m,\n",
       "\u001b[2;32m│   │    \u001b[0m\u001b[1;36m1717\u001b[0m,  \u001b[1;36m1311\u001b[0m,  \u001b[1;36m2079\u001b[0m,   \u001b[1;36m407\u001b[0m,   \u001b[1;36m533\u001b[0m,   \u001b[1;36m394\u001b[0m,   \u001b[1;36m463\u001b[0m,    \u001b[1;36m30\u001b[0m,   \u001b[1;36m185\u001b[0m,   \u001b[1;36m185\u001b[0m,\n",
       "\u001b[2;32m│   │   │   \u001b[0m\u001b[1;36m2\u001b[0m,  \u001b[1;36m5975\u001b[0m,    \u001b[1;36m25\u001b[0m,   \u001b[1;36m207\u001b[0m,   \u001b[1;36m185\u001b[0m,   \u001b[1;36m185\u001b[0m,  \u001b[1;36m7507\u001b[0m,  \u001b[1;36m1683\u001b[0m,     \u001b[1;36m7\u001b[0m, \u001b[1;36m10230\u001b[0m,\n",
       "\u001b[2;32m│   │    \u001b[0m\u001b[1;36m7432\u001b[0m, \u001b[1;36m24111\u001b[0m, \u001b[1;36m32021\u001b[0m\u001b[1m]\u001b[0m\u001b[1m)\u001b[0m,\n",
       "\u001b[2;32m│   \u001b[0m\u001b[32m'labels'\u001b[0m: \u001b[1;35mtensor\u001b[0m\u001b[1m(\u001b[0m\u001b[1m[\u001b[0m \u001b[1;36m-100\u001b[0m,  \u001b[1;36m-100\u001b[0m,  \u001b[1;36m-100\u001b[0m,  \u001b[1;36m-100\u001b[0m,  \u001b[1;36m-100\u001b[0m,  \u001b[1;36m-100\u001b[0m,  \u001b[1;36m-100\u001b[0m,  \u001b[1;36m-100\u001b[0m,  \u001b[1;36m-100\u001b[0m,  \u001b[1;36m-100\u001b[0m,\n",
       "\u001b[2;32m│   │    \u001b[0m\u001b[1;36m-100\u001b[0m,  \u001b[1;36m-100\u001b[0m,  \u001b[1;36m-100\u001b[0m,  \u001b[1;36m-100\u001b[0m,  \u001b[1;36m-100\u001b[0m,  \u001b[1;36m-100\u001b[0m,  \u001b[1;36m-100\u001b[0m,  \u001b[1;36m-100\u001b[0m,  \u001b[1;36m-100\u001b[0m,  \u001b[1;36m-100\u001b[0m,\n",
       "\u001b[2;32m│   │    \u001b[0m\u001b[1;36m-100\u001b[0m,  \u001b[1;36m-100\u001b[0m,  \u001b[1;36m-100\u001b[0m,  \u001b[1;36m-100\u001b[0m,  \u001b[1;36m-100\u001b[0m,  \u001b[1;36m-100\u001b[0m,  \u001b[1;36m-100\u001b[0m,  \u001b[1;36m-100\u001b[0m,  \u001b[1;36m-100\u001b[0m,  \u001b[1;36m-100\u001b[0m,\n",
       "\u001b[2;32m│   │    \u001b[0m\u001b[1;36m-100\u001b[0m,  \u001b[1;36m-100\u001b[0m,  \u001b[1;36m-100\u001b[0m,  \u001b[1;36m-100\u001b[0m,  \u001b[1;36m-100\u001b[0m,  \u001b[1;36m-100\u001b[0m,  \u001b[1;36m-100\u001b[0m,  \u001b[1;36m-100\u001b[0m,  \u001b[1;36m-100\u001b[0m,  \u001b[1;36m-100\u001b[0m,\n",
       "\u001b[2;32m│   │    \u001b[0m\u001b[1;36m-100\u001b[0m,  \u001b[1;36m-100\u001b[0m,  \u001b[1;36m-100\u001b[0m,  \u001b[1;36m-100\u001b[0m,  \u001b[1;36m-100\u001b[0m,  \u001b[1;36m-100\u001b[0m,  \u001b[1;36m-100\u001b[0m,  \u001b[1;36m-100\u001b[0m,  \u001b[1;36m-100\u001b[0m,  \u001b[1;36m-100\u001b[0m,\n",
       "\u001b[2;32m│   │    \u001b[0m\u001b[1;36m-100\u001b[0m,  \u001b[1;36m-100\u001b[0m,  \u001b[1;36m-100\u001b[0m,  \u001b[1;36m-100\u001b[0m,  \u001b[1;36m-100\u001b[0m,  \u001b[1;36m-100\u001b[0m,  \u001b[1;36m-100\u001b[0m,  \u001b[1;36m-100\u001b[0m,  \u001b[1;36m-100\u001b[0m,  \u001b[1;36m-100\u001b[0m,\n",
       "\u001b[2;32m│   │    \u001b[0m\u001b[1;36m-100\u001b[0m,  \u001b[1;36m-100\u001b[0m,  \u001b[1;36m-100\u001b[0m,  \u001b[1;36m-100\u001b[0m,  \u001b[1;36m-100\u001b[0m,  \u001b[1;36m-100\u001b[0m,  \u001b[1;36m-100\u001b[0m,  \u001b[1;36m-100\u001b[0m,  \u001b[1;36m-100\u001b[0m,  \u001b[1;36m-100\u001b[0m,\n",
       "\u001b[2;32m│   │    \u001b[0m\u001b[1;36m-100\u001b[0m,  \u001b[1;36m-100\u001b[0m,  \u001b[1;36m-100\u001b[0m,  \u001b[1;36m-100\u001b[0m,  \u001b[1;36m-100\u001b[0m,  \u001b[1;36m-100\u001b[0m,  \u001b[1;36m-100\u001b[0m,  \u001b[1;36m-100\u001b[0m,  \u001b[1;36m-100\u001b[0m,  \u001b[1;36m-100\u001b[0m,\n",
       "\u001b[2;32m│   │    \u001b[0m\u001b[1;36m-100\u001b[0m,  \u001b[1;36m-100\u001b[0m,  \u001b[1;36m-100\u001b[0m,  \u001b[1;36m-100\u001b[0m,  \u001b[1;36m-100\u001b[0m,  \u001b[1;36m-100\u001b[0m,  \u001b[1;36m-100\u001b[0m,  \u001b[1;36m-100\u001b[0m,  \u001b[1;36m-100\u001b[0m,  \u001b[1;36m-100\u001b[0m,\n",
       "\u001b[2;32m│   │    \u001b[0m\u001b[1;36m-100\u001b[0m,  \u001b[1;36m-100\u001b[0m,  \u001b[1;36m-100\u001b[0m,  \u001b[1;36m-100\u001b[0m,  \u001b[1;36m-100\u001b[0m,  \u001b[1;36m-100\u001b[0m,  \u001b[1;36m-100\u001b[0m,  \u001b[1;36m-100\u001b[0m,  \u001b[1;36m-100\u001b[0m,  \u001b[1;36m-100\u001b[0m,\n",
       "\u001b[2;32m│   │    \u001b[0m\u001b[1;36m-100\u001b[0m,  \u001b[1;36m-100\u001b[0m,  \u001b[1;36m-100\u001b[0m,  \u001b[1;36m-100\u001b[0m,  \u001b[1;36m-100\u001b[0m,  \u001b[1;36m-100\u001b[0m,  \u001b[1;36m-100\u001b[0m,  \u001b[1;36m-100\u001b[0m,  \u001b[1;36m-100\u001b[0m,  \u001b[1;36m-100\u001b[0m,\n",
       "\u001b[2;32m│   │    \u001b[0m\u001b[1;36m-100\u001b[0m,  \u001b[1;36m-100\u001b[0m,  \u001b[1;36m-100\u001b[0m,  \u001b[1;36m-100\u001b[0m,  \u001b[1;36m-100\u001b[0m,  \u001b[1;36m-100\u001b[0m,  \u001b[1;36m-100\u001b[0m,  \u001b[1;36m-100\u001b[0m,  \u001b[1;36m-100\u001b[0m,  \u001b[1;36m-100\u001b[0m,\n",
       "\u001b[2;32m│   │    \u001b[0m\u001b[1;36m-100\u001b[0m,  \u001b[1;36m-100\u001b[0m,  \u001b[1;36m-100\u001b[0m,  \u001b[1;36m-100\u001b[0m,  \u001b[1;36m-100\u001b[0m,  \u001b[1;36m-100\u001b[0m,  \u001b[1;36m-100\u001b[0m,  \u001b[1;36m-100\u001b[0m,  \u001b[1;36m-100\u001b[0m,  \u001b[1;36m-100\u001b[0m,\n",
       "\u001b[2;32m│   │    \u001b[0m\u001b[1;36m-100\u001b[0m,  \u001b[1;36m-100\u001b[0m,  \u001b[1;36m-100\u001b[0m,  \u001b[1;36m-100\u001b[0m,  \u001b[1;36m-100\u001b[0m,  \u001b[1;36m-100\u001b[0m,  \u001b[1;36m-100\u001b[0m,  \u001b[1;36m-100\u001b[0m,  \u001b[1;36m-100\u001b[0m,  \u001b[1;36m-100\u001b[0m,\n",
       "\u001b[2;32m│   │    \u001b[0m\u001b[1;36m-100\u001b[0m,  \u001b[1;36m-100\u001b[0m,  \u001b[1;36m-100\u001b[0m,  \u001b[1;36m-100\u001b[0m,  \u001b[1;36m-100\u001b[0m,  \u001b[1;36m-100\u001b[0m,  \u001b[1;36m-100\u001b[0m,  \u001b[1;36m-100\u001b[0m,  \u001b[1;36m-100\u001b[0m,  \u001b[1;36m-100\u001b[0m,\n",
       "\u001b[2;32m│   │    \u001b[0m\u001b[1;36m-100\u001b[0m,  \u001b[1;36m-100\u001b[0m,  \u001b[1;36m-100\u001b[0m,  \u001b[1;36m-100\u001b[0m,  \u001b[1;36m-100\u001b[0m,  \u001b[1;36m-100\u001b[0m,  \u001b[1;36m-100\u001b[0m,  \u001b[1;36m-100\u001b[0m,  \u001b[1;36m-100\u001b[0m,  \u001b[1;36m-100\u001b[0m,\n",
       "\u001b[2;32m│   │    \u001b[0m\u001b[1;36m-100\u001b[0m,  \u001b[1;36m-100\u001b[0m,  \u001b[1;36m-100\u001b[0m,  \u001b[1;36m-100\u001b[0m,  \u001b[1;36m-100\u001b[0m,  \u001b[1;36m-100\u001b[0m,  \u001b[1;36m-100\u001b[0m,  \u001b[1;36m-100\u001b[0m,  \u001b[1;36m-100\u001b[0m,  \u001b[1;36m-100\u001b[0m,\n",
       "\u001b[2;32m│   │    \u001b[0m\u001b[1;36m-100\u001b[0m,  \u001b[1;36m-100\u001b[0m,  \u001b[1;36m-100\u001b[0m,  \u001b[1;36m-100\u001b[0m,  \u001b[1;36m-100\u001b[0m,  \u001b[1;36m-100\u001b[0m,  \u001b[1;36m-100\u001b[0m,  \u001b[1;36m-100\u001b[0m,  \u001b[1;36m-100\u001b[0m,  \u001b[1;36m-100\u001b[0m,\n",
       "\u001b[2;32m│   │    \u001b[0m\u001b[1;36m-100\u001b[0m,  \u001b[1;36m-100\u001b[0m,  \u001b[1;36m-100\u001b[0m,  \u001b[1;36m-100\u001b[0m,  \u001b[1;36m-100\u001b[0m,  \u001b[1;36m-100\u001b[0m,  \u001b[1;36m-100\u001b[0m,  \u001b[1;36m-100\u001b[0m,  \u001b[1;36m-100\u001b[0m,  \u001b[1;36m-100\u001b[0m,\n",
       "\u001b[2;32m│   │    \u001b[0m\u001b[1;36m-100\u001b[0m,  \u001b[1;36m-100\u001b[0m,  \u001b[1;36m-100\u001b[0m,  \u001b[1;36m-100\u001b[0m,  \u001b[1;36m-100\u001b[0m,  \u001b[1;36m-100\u001b[0m,  \u001b[1;36m-100\u001b[0m,  \u001b[1;36m-100\u001b[0m,  \u001b[1;36m-100\u001b[0m,  \u001b[1;36m-100\u001b[0m,\n",
       "\u001b[2;32m│   │    \u001b[0m\u001b[1;36m-100\u001b[0m,  \u001b[1;36m-100\u001b[0m,  \u001b[1;36m-100\u001b[0m,  \u001b[1;36m-100\u001b[0m,  \u001b[1;36m-100\u001b[0m,  \u001b[1;36m-100\u001b[0m,  \u001b[1;36m-100\u001b[0m,  \u001b[1;36m-100\u001b[0m,  \u001b[1;36m-100\u001b[0m,  \u001b[1;36m-100\u001b[0m,\n",
       "\u001b[2;32m│   │    \u001b[0m\u001b[1;36m-100\u001b[0m,  \u001b[1;36m-100\u001b[0m,  \u001b[1;36m-100\u001b[0m,  \u001b[1;36m-100\u001b[0m,  \u001b[1;36m-100\u001b[0m,  \u001b[1;36m-100\u001b[0m,  \u001b[1;36m-100\u001b[0m,  \u001b[1;36m-100\u001b[0m,  \u001b[1;36m-100\u001b[0m,  \u001b[1;36m-100\u001b[0m,\n",
       "\u001b[2;32m│   │    \u001b[0m\u001b[1;36m-100\u001b[0m,  \u001b[1;36m-100\u001b[0m,  \u001b[1;36m-100\u001b[0m,  \u001b[1;36m-100\u001b[0m,  \u001b[1;36m-100\u001b[0m,  \u001b[1;36m-100\u001b[0m,  \u001b[1;36m-100\u001b[0m,  \u001b[1;36m-100\u001b[0m,  \u001b[1;36m-100\u001b[0m,  \u001b[1;36m-100\u001b[0m,\n",
       "\u001b[2;32m│   │    \u001b[0m\u001b[1;36m-100\u001b[0m,  \u001b[1;36m-100\u001b[0m,  \u001b[1;36m-100\u001b[0m,  \u001b[1;36m-100\u001b[0m,  \u001b[1;36m-100\u001b[0m,  \u001b[1;36m-100\u001b[0m,  \u001b[1;36m-100\u001b[0m,  \u001b[1;36m-100\u001b[0m,  \u001b[1;36m-100\u001b[0m,  \u001b[1;36m-100\u001b[0m,\n",
       "\u001b[2;32m│   │    \u001b[0m\u001b[1;36m-100\u001b[0m,  \u001b[1;36m-100\u001b[0m,  \u001b[1;36m-100\u001b[0m,  \u001b[1;36m-100\u001b[0m,  \u001b[1;36m-100\u001b[0m,  \u001b[1;36m-100\u001b[0m,  \u001b[1;36m-100\u001b[0m,  \u001b[1;36m-100\u001b[0m,  \u001b[1;36m-100\u001b[0m,  \u001b[1;36m-100\u001b[0m,\n",
       "\u001b[2;32m│   │    \u001b[0m\u001b[1;36m-100\u001b[0m,  \u001b[1;36m-100\u001b[0m,  \u001b[1;36m-100\u001b[0m,  \u001b[1;36m-100\u001b[0m,  \u001b[1;36m-100\u001b[0m,  \u001b[1;36m-100\u001b[0m,  \u001b[1;36m-100\u001b[0m,  \u001b[1;36m-100\u001b[0m,  \u001b[1;36m-100\u001b[0m,  \u001b[1;36m-100\u001b[0m,\n",
       "\u001b[2;32m│   │    \u001b[0m\u001b[1;36m-100\u001b[0m,  \u001b[1;36m-100\u001b[0m,  \u001b[1;36m-100\u001b[0m,  \u001b[1;36m-100\u001b[0m,  \u001b[1;36m-100\u001b[0m,  \u001b[1;36m-100\u001b[0m,  \u001b[1;36m-100\u001b[0m,  \u001b[1;36m-100\u001b[0m,  \u001b[1;36m-100\u001b[0m,  \u001b[1;36m-100\u001b[0m,\n",
       "\u001b[2;32m│   │    \u001b[0m\u001b[1;36m-100\u001b[0m,  \u001b[1;36m-100\u001b[0m,  \u001b[1;36m-100\u001b[0m,  \u001b[1;36m-100\u001b[0m,  \u001b[1;36m-100\u001b[0m,  \u001b[1;36m-100\u001b[0m,  \u001b[1;36m-100\u001b[0m,  \u001b[1;36m-100\u001b[0m,  \u001b[1;36m-100\u001b[0m,  \u001b[1;36m-100\u001b[0m,\n",
       "\u001b[2;32m│   │    \u001b[0m\u001b[1;36m-100\u001b[0m,  \u001b[1;36m-100\u001b[0m,  \u001b[1;36m-100\u001b[0m,  \u001b[1;36m-100\u001b[0m,  \u001b[1;36m-100\u001b[0m,  \u001b[1;36m-100\u001b[0m,  \u001b[1;36m-100\u001b[0m,  \u001b[1;36m-100\u001b[0m,  \u001b[1;36m-100\u001b[0m,  \u001b[1;36m-100\u001b[0m,\n",
       "\u001b[2;32m│   │    \u001b[0m\u001b[1;36m-100\u001b[0m,  \u001b[1;36m-100\u001b[0m,  \u001b[1;36m-100\u001b[0m,  \u001b[1;36m-100\u001b[0m,  \u001b[1;36m-100\u001b[0m,  \u001b[1;36m-100\u001b[0m,  \u001b[1;36m-100\u001b[0m,  \u001b[1;36m-100\u001b[0m,  \u001b[1;36m-100\u001b[0m,  \u001b[1;36m-100\u001b[0m,\n",
       "\u001b[2;32m│   │    \u001b[0m\u001b[1;36m-100\u001b[0m,  \u001b[1;36m-100\u001b[0m,  \u001b[1;36m-100\u001b[0m,  \u001b[1;36m-100\u001b[0m,  \u001b[1;36m-100\u001b[0m,  \u001b[1;36m-100\u001b[0m,  \u001b[1;36m-100\u001b[0m,  \u001b[1;36m-100\u001b[0m,  \u001b[1;36m-100\u001b[0m,  \u001b[1;36m-100\u001b[0m,\n",
       "\u001b[2;32m│   │    \u001b[0m\u001b[1;36m-100\u001b[0m,  \u001b[1;36m-100\u001b[0m,  \u001b[1;36m-100\u001b[0m,  \u001b[1;36m-100\u001b[0m,  \u001b[1;36m-100\u001b[0m,  \u001b[1;36m-100\u001b[0m,  \u001b[1;36m-100\u001b[0m,  \u001b[1;36m-100\u001b[0m,  \u001b[1;36m-100\u001b[0m,  \u001b[1;36m-100\u001b[0m,\n",
       "\u001b[2;32m│   │    \u001b[0m\u001b[1;36m-100\u001b[0m,  \u001b[1;36m-100\u001b[0m,  \u001b[1;36m-100\u001b[0m,  \u001b[1;36m-100\u001b[0m,  \u001b[1;36m-100\u001b[0m,  \u001b[1;36m-100\u001b[0m,  \u001b[1;36m-100\u001b[0m,  \u001b[1;36m-100\u001b[0m,  \u001b[1;36m-100\u001b[0m,  \u001b[1;36m-100\u001b[0m,\n",
       "\u001b[2;32m│   │    \u001b[0m\u001b[1;36m-100\u001b[0m,  \u001b[1;36m-100\u001b[0m,  \u001b[1;36m-100\u001b[0m,  \u001b[1;36m-100\u001b[0m,  \u001b[1;36m-100\u001b[0m,  \u001b[1;36m-100\u001b[0m,  \u001b[1;36m-100\u001b[0m,  \u001b[1;36m-100\u001b[0m,  \u001b[1;36m-100\u001b[0m,  \u001b[1;36m-100\u001b[0m,\n",
       "\u001b[2;32m│   │    \u001b[0m\u001b[1;36m-100\u001b[0m,  \u001b[1;36m-100\u001b[0m,  \u001b[1;36m-100\u001b[0m,  \u001b[1;36m-100\u001b[0m,  \u001b[1;36m-100\u001b[0m,  \u001b[1;36m-100\u001b[0m,  \u001b[1;36m-100\u001b[0m,  \u001b[1;36m-100\u001b[0m,  \u001b[1;36m-100\u001b[0m,  \u001b[1;36m-100\u001b[0m,\n",
       "\u001b[2;32m│   │    \u001b[0m\u001b[1;36m-100\u001b[0m,  \u001b[1;36m-100\u001b[0m,  \u001b[1;36m-100\u001b[0m,  \u001b[1;36m-100\u001b[0m,  \u001b[1;36m-100\u001b[0m,  \u001b[1;36m-100\u001b[0m,  \u001b[1;36m-100\u001b[0m,  \u001b[1;36m-100\u001b[0m,  \u001b[1;36m-100\u001b[0m,  \u001b[1;36m-100\u001b[0m,\n",
       "\u001b[2;32m│   │    \u001b[0m\u001b[1;36m-100\u001b[0m,  \u001b[1;36m-100\u001b[0m,  \u001b[1;36m-100\u001b[0m,  \u001b[1;36m-100\u001b[0m,  \u001b[1;36m-100\u001b[0m,  \u001b[1;36m-100\u001b[0m,  \u001b[1;36m-100\u001b[0m,  \u001b[1;36m-100\u001b[0m,  \u001b[1;36m-100\u001b[0m,  \u001b[1;36m-100\u001b[0m,\n",
       "\u001b[2;32m│   │    \u001b[0m\u001b[1;36m-100\u001b[0m,  \u001b[1;36m-100\u001b[0m,  \u001b[1;36m-100\u001b[0m,  \u001b[1;36m-100\u001b[0m,  \u001b[1;36m-100\u001b[0m,  \u001b[1;36m-100\u001b[0m,  \u001b[1;36m-100\u001b[0m,  \u001b[1;36m-100\u001b[0m,  \u001b[1;36m-100\u001b[0m,  \u001b[1;36m-100\u001b[0m,\n",
       "\u001b[2;32m│   │    \u001b[0m\u001b[1;36m-100\u001b[0m,  \u001b[1;36m-100\u001b[0m,  \u001b[1;36m-100\u001b[0m,  \u001b[1;36m-100\u001b[0m,  \u001b[1;36m-100\u001b[0m,  \u001b[1;36m-100\u001b[0m,  \u001b[1;36m-100\u001b[0m,  \u001b[1;36m-100\u001b[0m,  \u001b[1;36m-100\u001b[0m,  \u001b[1;36m-100\u001b[0m,\n",
       "\u001b[2;32m│   │    \u001b[0m\u001b[1;36m-100\u001b[0m,  \u001b[1;36m-100\u001b[0m,  \u001b[1;36m-100\u001b[0m,  \u001b[1;36m-100\u001b[0m,  \u001b[1;36m-100\u001b[0m,  \u001b[1;36m-100\u001b[0m,  \u001b[1;36m-100\u001b[0m,  \u001b[1;36m-100\u001b[0m,  \u001b[1;36m-100\u001b[0m,  \u001b[1;36m-100\u001b[0m,\n",
       "\u001b[2;32m│   │    \u001b[0m\u001b[1;36m-100\u001b[0m,  \u001b[1;36m-100\u001b[0m,  \u001b[1;36m-100\u001b[0m,  \u001b[1;36m-100\u001b[0m,  \u001b[1;36m-100\u001b[0m,  \u001b[1;36m-100\u001b[0m,  \u001b[1;36m-100\u001b[0m,  \u001b[1;36m-100\u001b[0m,  \u001b[1;36m-100\u001b[0m,  \u001b[1;36m-100\u001b[0m,\n",
       "\u001b[2;32m│   │    \u001b[0m\u001b[1;36m-100\u001b[0m,  \u001b[1;36m-100\u001b[0m,  \u001b[1;36m-100\u001b[0m,  \u001b[1;36m-100\u001b[0m,  \u001b[1;36m-100\u001b[0m,  \u001b[1;36m-100\u001b[0m,  \u001b[1;36m-100\u001b[0m,  \u001b[1;36m-100\u001b[0m,  \u001b[1;36m-100\u001b[0m,  \u001b[1;36m-100\u001b[0m,\n",
       "\u001b[2;32m│   │    \u001b[0m\u001b[1;36m-100\u001b[0m,  \u001b[1;36m-100\u001b[0m,  \u001b[1;36m-100\u001b[0m,  \u001b[1;36m-100\u001b[0m,  \u001b[1;36m-100\u001b[0m,  \u001b[1;36m-100\u001b[0m,  \u001b[1;36m-100\u001b[0m,  \u001b[1;36m-100\u001b[0m,  \u001b[1;36m-100\u001b[0m,  \u001b[1;36m-100\u001b[0m,\n",
       "\u001b[2;32m│   │    \u001b[0m\u001b[1;36m-100\u001b[0m,  \u001b[1;36m-100\u001b[0m,  \u001b[1;36m-100\u001b[0m,  \u001b[1;36m-100\u001b[0m,  \u001b[1;36m-100\u001b[0m,  \u001b[1;36m-100\u001b[0m,  \u001b[1;36m-100\u001b[0m,  \u001b[1;36m-100\u001b[0m,  \u001b[1;36m-100\u001b[0m,  \u001b[1;36m-100\u001b[0m,\n",
       "\u001b[2;32m│   │    \u001b[0m\u001b[1;36m-100\u001b[0m,  \u001b[1;36m-100\u001b[0m,  \u001b[1;36m-100\u001b[0m,  \u001b[1;36m-100\u001b[0m,  \u001b[1;36m-100\u001b[0m,  \u001b[1;36m-100\u001b[0m,  \u001b[1;36m-100\u001b[0m,  \u001b[1;36m-100\u001b[0m,  \u001b[1;36m-100\u001b[0m,  \u001b[1;36m-100\u001b[0m,\n",
       "\u001b[2;32m│   │    \u001b[0m\u001b[1;36m-100\u001b[0m,  \u001b[1;36m-100\u001b[0m,  \u001b[1;36m-100\u001b[0m,  \u001b[1;36m-100\u001b[0m,  \u001b[1;36m-100\u001b[0m,  \u001b[1;36m-100\u001b[0m,  \u001b[1;36m-100\u001b[0m,  \u001b[1;36m-100\u001b[0m,  \u001b[1;36m-100\u001b[0m,  \u001b[1;36m-100\u001b[0m,\n",
       "\u001b[2;32m│   │    \u001b[0m\u001b[1;36m-100\u001b[0m,  \u001b[1;36m-100\u001b[0m,  \u001b[1;36m-100\u001b[0m,  \u001b[1;36m-100\u001b[0m,  \u001b[1;36m-100\u001b[0m,  \u001b[1;36m-100\u001b[0m,  \u001b[1;36m-100\u001b[0m,  \u001b[1;36m-100\u001b[0m,  \u001b[1;36m-100\u001b[0m,  \u001b[1;36m-100\u001b[0m,\n",
       "\u001b[2;32m│   │    \u001b[0m\u001b[1;36m-100\u001b[0m,  \u001b[1;36m-100\u001b[0m,  \u001b[1;36m-100\u001b[0m,  \u001b[1;36m-100\u001b[0m,  \u001b[1;36m-100\u001b[0m,  \u001b[1;36m-100\u001b[0m,  \u001b[1;36m-100\u001b[0m,  \u001b[1;36m-100\u001b[0m,  \u001b[1;36m-100\u001b[0m,  \u001b[1;36m-100\u001b[0m,\n",
       "\u001b[2;32m│   │    \u001b[0m\u001b[1;36m-100\u001b[0m,  \u001b[1;36m-100\u001b[0m,  \u001b[1;36m-100\u001b[0m,  \u001b[1;36m-100\u001b[0m,  \u001b[1;36m-100\u001b[0m,  \u001b[1;36m-100\u001b[0m,  \u001b[1;36m-100\u001b[0m,  \u001b[1;36m-100\u001b[0m,  \u001b[1;36m-100\u001b[0m,  \u001b[1;36m-100\u001b[0m,\n",
       "\u001b[2;32m│   │    \u001b[0m\u001b[1;36m-100\u001b[0m,  \u001b[1;36m-100\u001b[0m,  \u001b[1;36m-100\u001b[0m,  \u001b[1;36m-100\u001b[0m,  \u001b[1;36m-100\u001b[0m,  \u001b[1;36m-100\u001b[0m,  \u001b[1;36m-100\u001b[0m,  \u001b[1;36m-100\u001b[0m,  \u001b[1;36m-100\u001b[0m,  \u001b[1;36m-100\u001b[0m,\n",
       "\u001b[2;32m│   │    \u001b[0m\u001b[1;36m-100\u001b[0m,  \u001b[1;36m-100\u001b[0m,  \u001b[1;36m-100\u001b[0m,  \u001b[1;36m-100\u001b[0m,  \u001b[1;36m-100\u001b[0m,  \u001b[1;36m-100\u001b[0m,  \u001b[1;36m-100\u001b[0m,  \u001b[1;36m-100\u001b[0m,  \u001b[1;36m-100\u001b[0m,  \u001b[1;36m-100\u001b[0m,\n",
       "\u001b[2;32m│   │    \u001b[0m\u001b[1;36m-100\u001b[0m,  \u001b[1;36m-100\u001b[0m,  \u001b[1;36m-100\u001b[0m,  \u001b[1;36m-100\u001b[0m,  \u001b[1;36m-100\u001b[0m,  \u001b[1;36m-100\u001b[0m,  \u001b[1;36m-100\u001b[0m,  \u001b[1;36m-100\u001b[0m,  \u001b[1;36m-100\u001b[0m,  \u001b[1;36m-100\u001b[0m,\n",
       "\u001b[2;32m│   │    \u001b[0m\u001b[1;36m-100\u001b[0m,  \u001b[1;36m-100\u001b[0m,  \u001b[1;36m-100\u001b[0m,  \u001b[1;36m-100\u001b[0m,  \u001b[1;36m-100\u001b[0m,  \u001b[1;36m-100\u001b[0m,  \u001b[1;36m-100\u001b[0m,  \u001b[1;36m-100\u001b[0m,  \u001b[1;36m-100\u001b[0m,  \u001b[1;36m-100\u001b[0m,\n",
       "\u001b[2;32m│   │    \u001b[0m\u001b[1;36m-100\u001b[0m,  \u001b[1;36m-100\u001b[0m,  \u001b[1;36m-100\u001b[0m,  \u001b[1;36m-100\u001b[0m,  \u001b[1;36m-100\u001b[0m,  \u001b[1;36m-100\u001b[0m,  \u001b[1;36m-100\u001b[0m,  \u001b[1;36m-100\u001b[0m,  \u001b[1;36m-100\u001b[0m,  \u001b[1;36m-100\u001b[0m,\n",
       "\u001b[2;32m│   │    \u001b[0m\u001b[1;36m-100\u001b[0m,  \u001b[1;36m-100\u001b[0m,  \u001b[1;36m-100\u001b[0m,  \u001b[1;36m-100\u001b[0m,  \u001b[1;36m-100\u001b[0m,  \u001b[1;36m-100\u001b[0m,  \u001b[1;36m-100\u001b[0m,  \u001b[1;36m-100\u001b[0m,  \u001b[1;36m-100\u001b[0m,  \u001b[1;36m-100\u001b[0m,\n",
       "\u001b[2;32m│   │    \u001b[0m\u001b[1;36m-100\u001b[0m,  \u001b[1;36m-100\u001b[0m,  \u001b[1;36m-100\u001b[0m,  \u001b[1;36m-100\u001b[0m,  \u001b[1;36m-100\u001b[0m,  \u001b[1;36m-100\u001b[0m,  \u001b[1;36m-100\u001b[0m,  \u001b[1;36m-100\u001b[0m,  \u001b[1;36m-100\u001b[0m,  \u001b[1;36m-100\u001b[0m,\n",
       "\u001b[2;32m│   │    \u001b[0m\u001b[1;36m-100\u001b[0m,  \u001b[1;36m-100\u001b[0m,  \u001b[1;36m-100\u001b[0m,  \u001b[1;36m-100\u001b[0m,  \u001b[1;36m-100\u001b[0m,  \u001b[1;36m-100\u001b[0m,  \u001b[1;36m-100\u001b[0m,  \u001b[1;36m-100\u001b[0m,  \u001b[1;36m-100\u001b[0m,  \u001b[1;36m-100\u001b[0m,\n",
       "\u001b[2;32m│   │    \u001b[0m\u001b[1;36m-100\u001b[0m,  \u001b[1;36m-100\u001b[0m,  \u001b[1;36m-100\u001b[0m,  \u001b[1;36m-100\u001b[0m,  \u001b[1;36m-100\u001b[0m,  \u001b[1;36m-100\u001b[0m,  \u001b[1;36m-100\u001b[0m,  \u001b[1;36m-100\u001b[0m,  \u001b[1;36m-100\u001b[0m,  \u001b[1;36m-100\u001b[0m,\n",
       "\u001b[2;32m│   │    \u001b[0m\u001b[1;36m-100\u001b[0m,  \u001b[1;36m-100\u001b[0m,  \u001b[1;36m-100\u001b[0m,  \u001b[1;36m-100\u001b[0m,  \u001b[1;36m-100\u001b[0m,  \u001b[1;36m-100\u001b[0m,  \u001b[1;36m-100\u001b[0m,  \u001b[1;36m-100\u001b[0m,  \u001b[1;36m-100\u001b[0m,  \u001b[1;36m-100\u001b[0m,\n",
       "\u001b[2;32m│   │    \u001b[0m\u001b[1;36m-100\u001b[0m,  \u001b[1;36m-100\u001b[0m,  \u001b[1;36m-100\u001b[0m,  \u001b[1;36m-100\u001b[0m,  \u001b[1;36m-100\u001b[0m,  \u001b[1;36m-100\u001b[0m,  \u001b[1;36m-100\u001b[0m,  \u001b[1;36m-100\u001b[0m,  \u001b[1;36m-100\u001b[0m,  \u001b[1;36m-100\u001b[0m,\n",
       "\u001b[2;32m│   │    \u001b[0m\u001b[1;36m-100\u001b[0m,  \u001b[1;36m-100\u001b[0m,  \u001b[1;36m-100\u001b[0m,  \u001b[1;36m-100\u001b[0m,  \u001b[1;36m-100\u001b[0m,  \u001b[1;36m-100\u001b[0m,  \u001b[1;36m-100\u001b[0m,  \u001b[1;36m-100\u001b[0m,  \u001b[1;36m-100\u001b[0m,  \u001b[1;36m-100\u001b[0m,\n",
       "\u001b[2;32m│   │    \u001b[0m\u001b[1;36m-100\u001b[0m,  \u001b[1;36m-100\u001b[0m,  \u001b[1;36m-100\u001b[0m,  \u001b[1;36m-100\u001b[0m,  \u001b[1;36m-100\u001b[0m,  \u001b[1;36m-100\u001b[0m,  \u001b[1;36m7507\u001b[0m,  \u001b[1;36m1683\u001b[0m,     \u001b[1;36m7\u001b[0m, \u001b[1;36m10230\u001b[0m,\n",
       "\u001b[2;32m│   │    \u001b[0m\u001b[1;36m7432\u001b[0m, \u001b[1;36m24111\u001b[0m, \u001b[1;36m32021\u001b[0m\u001b[1m]\u001b[0m\u001b[1m)\u001b[0m,\n",
       "\u001b[2;32m│   \u001b[0m\u001b[32m'raw'\u001b[0m: \u001b[1m{\u001b[0m\n",
       "\u001b[2;32m│   │   \u001b[0m\u001b[32m'type'\u001b[0m: \u001b[32m'dk'\u001b[0m,\n",
       "\u001b[2;32m│   │   \u001b[0m\u001b[32m'db_id'\u001b[0m: \u001b[32m'new_concert_singer'\u001b[0m,\n",
       "\u001b[2;32m│   │   \u001b[0m\u001b[32m'query'\u001b[0m: \u001b[32m'SELECT count\u001b[0m\u001b[32m(\u001b[0m\u001b[32m*\u001b[0m\u001b[32m)\u001b[0m\u001b[32m FROM singer'\u001b[0m,\n",
       "\u001b[2;32m│   │   \u001b[0m\u001b[32m'question'\u001b[0m: \u001b[32m'How many singers do we have?'\u001b[0m,\n",
       "\u001b[2;32m│   │   \u001b[0m\u001b[32m'SQL'\u001b[0m: \u001b[32m'SELECT count\u001b[0m\u001b[32m(\u001b[0m\u001b[32m*\u001b[0m\u001b[32m)\u001b[0m\u001b[32m FROM singer'\u001b[0m,\n",
       "\u001b[2;32m│   │   \u001b[0m\u001b[32m'db_path'\u001b[0m: \u001b[32m'../data/spider/database/new_concert_singer/new_concert_singer.sqlite'\u001b[0m,\n",
       "\u001b[2;32m│   │   \u001b[0m\u001b[32m'prompt'\u001b[0m: \u001b[32m'\u001b[0m\u001b[32m<\u001b[0m\u001b[32m｜begin▁of▁sentence｜\u001b[0m\u001b[32m>\u001b[0m\u001b[32mYou are an AI programming assistant, utilizing the Deepseek Coder model, developed by Deepseek Company, and you only answer questions related to computer science. For politically sensitive questions, security and privacy issues, and other non-computer science questions, you will refuse to answer\\n### Instruction:\\n\\n# Follow these instruction:\\nYou will be given schemas of tables of a database. Your job is to write correct\\nerror free SQL query based on the question asked. Please make sure:\\n\\n1. Do not add ``` at start / end of the query. It should be a single line query in a  single line \u001b[0m\u001b[32m(\u001b[0m\u001b[32mstring format\u001b[0m\u001b[32m)\u001b[0m\u001b[32m\\n2. Make sure the column names are correct and exists in the table\\n3. For column names which has a space with it, make sure you have put `` in that column name\\n4. Think step by step and always check schema and question and the column names before writing the\\nquery. \\n\\n# Database and Table Schema:\\nCREATE TABLE `stadium` \u001b[0m\u001b[32m(\u001b[0m\u001b[32m`Stadium_ID` int,`Location` text,`Name` text,`Capacity` int,`Highest` int,`Lowest` int,`Average` int,PRIMARY KEY \u001b[0m\u001b[32m(\u001b[0m\u001b[32m`Stadium_ID`\u001b[0m\u001b[32m)\u001b[0m\u001b[32m)\u001b[0m\u001b[32m\\nCREATE TABLE \"singer\" \u001b[0m\u001b[32m(\u001b[0m\u001b[32m\"Singer_ID\" int,\"Name\" text,\"Country\" text,\"Song_Name\" text,\"Song_release_year\" text,\"Birthday\" TIMESTAMP,\"Is_male\" bool,PRIMARY KEY \u001b[0m\u001b[32m(\u001b[0m\u001b[32m\"Singer_ID\"\u001b[0m\u001b[32m)\u001b[0m\u001b[32m)\u001b[0m\u001b[32m\\nCREATE TABLE \"concert\" \u001b[0m\u001b[32m(\u001b[0m\u001b[32m\"concert_ID\" int,\"concert_Name\" text,\"Theme\" text,\"Stadium_ID\" text,\"Year\" text,PRIMARY KEY \u001b[0m\u001b[32m(\u001b[0m\u001b[32m\"concert_ID\"\u001b[0m\u001b[32m)\u001b[0m\u001b[32m,FOREIGN KEY \u001b[0m\u001b[32m(\u001b[0m\u001b[32m\"Stadium_ID\"\u001b[0m\u001b[32m)\u001b[0m\u001b[32m REFERENCES \"stadium\"\u001b[0m\u001b[32m(\u001b[0m\u001b[32m\"Stadium_ID\"\u001b[0m\u001b[32m)\u001b[0m\u001b[32m)\u001b[0m\u001b[32m\\nCREATE TABLE \"singer_in_concert\" \u001b[0m\u001b[32m(\u001b[0m\u001b[32m\"concert_ID\" int,\"Singer_ID\" text,PRIMARY KEY \u001b[0m\u001b[32m(\u001b[0m\u001b[32m\"concert_ID\",\"Singer_ID\"\u001b[0m\u001b[32m)\u001b[0m\u001b[32m,FOREIGN KEY \u001b[0m\u001b[32m(\u001b[0m\u001b[32m\"concert_ID\"\u001b[0m\u001b[32m)\u001b[0m\u001b[32m REFERENCES \"concert\"\u001b[0m\u001b[32m(\u001b[0m\u001b[32m\"concert_ID\"\u001b[0m\u001b[32m)\u001b[0m\u001b[32m,FOREIGN KEY \u001b[0m\u001b[32m(\u001b[0m\u001b[32m\"Singer_ID\"\u001b[0m\u001b[32m)\u001b[0m\u001b[32m REFERENCES \"singer\"\u001b[0m\u001b[32m(\u001b[0m\u001b[32m\"Singer_ID\"\u001b[0m\u001b[32m)\u001b[0m\u001b[32m)\u001b[0m\u001b[32m\\n\\n\\n\\n# Here are some Examples on how to generate SQL statements and use column names:\\n\\nQuestion: Show name, country for all singers ordered by age from the oldest to the youngest.\\nSQL: SELECT name ,  country  FROM singer ORDER BY birthday ASC\\n\\nQuestion: How many singers do we have?\\nSQL: SELECT count\u001b[0m\u001b[32m(\u001b[0m\u001b[32m*\u001b[0m\u001b[32m)\u001b[0m\u001b[32m FROM singer\\n\\nQuestion: What is the total number of singers?\\nSQL: SELECT count\u001b[0m\u001b[32m(\u001b[0m\u001b[32m*\u001b[0m\u001b[32m)\u001b[0m\u001b[32m FROM singer\\n\\n\\n# Question: How many singers do we have?\\n\\n# SQL: \\n\\n'\u001b[0m\n",
       "\u001b[2;32m│   \u001b[0m\u001b[1m}\u001b[0m\n",
       "\u001b[1m}\u001b[0m"
      ]
     },
     "execution_count": 5,
     "metadata": {},
     "output_type": "execute_result"
    }
   ],
   "source": [
    "# Loading Spider Dataset\n",
    "\n",
    "spider_dataset = Text2SQLDataset(\n",
    "    dataset_name=\"spider\",\n",
    "    split=\"train\",\n",
    "    dataset_folder=\"../data\",\n",
    "    ).setup_dataset(\n",
    "        num_fewshot=3,\n",
    "        num_rows=3,\n",
    "        model_name_or_path=\"premai-io/prem-1B-SQL\",\n",
    "    )\n",
    "\n",
    "spider_dataset[0]"
   ]
  },
  {
   "cell_type": "code",
   "execution_count": 6,
   "metadata": {},
   "outputs": [
    {
     "name": "stderr",
     "output_type": "stream",
     "text": [
      "2024-09-04 00:07:17,129 - [DOMAINS-DATASET] - INFO - Loaded Domains Dataset\n",
      "2024-09-04 00:07:17,131 - [DOMAINS-DATASET] - INFO - Setting up Domains Dataset\n",
      "Applying prompt: 100%|██████████| 3/3 [00:00<00:00, 1625.07it/s]\n",
      "2024-09-04 00:07:17,588 - [DATASET] - INFO - Casted dataset with model chat template\n",
      "2024-09-04 00:07:17,589 - [DATASET] - INFO - Starting Tokenization ...\n",
      "Tokenizing: 100%|██████████| 3/3 [00:00<00:00, 348.63it/s]\n",
      "Tokenizing: 100%|██████████| 3/3 [00:00<00:00, 364.85it/s]\n"
     ]
    },
    {
     "data": {
      "text/html": [
       "<pre style=\"white-space:pre;overflow-x:auto;line-height:normal;font-family:Menlo,'DejaVu Sans Mono',consolas,'Courier New',monospace\"></pre>\n"
      ],
      "text/plain": []
     },
     "metadata": {},
     "output_type": "display_data"
    },
    {
     "data": {
      "text/plain": [
       "\n",
       "\u001b[1m{\u001b[0m\n",
       "\u001b[2;32m│   \u001b[0m\u001b[32m'input_ids'\u001b[0m: \u001b[1;35mtensor\u001b[0m\u001b[1m(\u001b[0m\u001b[1m[\u001b[0m\u001b[1;36m32013\u001b[0m, \u001b[1;36m32013\u001b[0m,  \u001b[1;36m2042\u001b[0m,  \u001b[33m...\u001b[0m,   \u001b[1;36m304\u001b[0m,    \u001b[1;36m26\u001b[0m, \u001b[1;36m32021\u001b[0m\u001b[1m]\u001b[0m\u001b[1m)\u001b[0m,\n",
       "\u001b[2;32m│   \u001b[0m\u001b[32m'labels'\u001b[0m: \u001b[1;35mtensor\u001b[0m\u001b[1m(\u001b[0m\u001b[1m[\u001b[0m \u001b[1;36m-100\u001b[0m,  \u001b[1;36m-100\u001b[0m,  \u001b[1;36m-100\u001b[0m,  \u001b[33m...\u001b[0m,   \u001b[1;36m304\u001b[0m,    \u001b[1;36m26\u001b[0m, \u001b[1;36m32021\u001b[0m\u001b[1m]\u001b[0m\u001b[1m)\u001b[0m,\n",
       "\u001b[2;32m│   \u001b[0m\u001b[32m'raw'\u001b[0m: \u001b[1m{\u001b[0m\n",
       "\u001b[2;32m│   │   \u001b[0m\u001b[32m'db_id'\u001b[0m: \u001b[32m'Aminer_Simplified'\u001b[0m,\n",
       "\u001b[2;32m│   │   \u001b[0m\u001b[32m'question'\u001b[0m: \u001b[32m'Show the different keywords articles which has shown at Science and Technology Management Research used.'\u001b[0m,\n",
       "\u001b[2;32m│   │   \u001b[0m\u001b[32m'query'\u001b[0m: \u001b[32m\"SELECT DISTINCT Paper_Keywords.keyword FROM Paper_Keywords JOIN \u001b[0m\u001b[32m(\u001b[0m\u001b[32mSELECT paper_id FROM Venue_Papers WHERE venue_id = \u001b[0m\u001b[32m(\u001b[0m\u001b[32mSELECT id FROM Venue WHERE DisplayName = 'Science and Technology Management Research'\u001b[0m\u001b[32m)\u001b[0m\u001b[32m)\u001b[0m\u001b[32m AS STM_Papers ON Paper_Keywords.paper_id = STM_Papers.paper_id;\"\u001b[0m,\n",
       "\u001b[2;32m│   │   \u001b[0m\u001b[32m'domain'\u001b[0m: \u001b[32m'Aminer'\u001b[0m,\n",
       "\u001b[2;32m│   │   \u001b[0m\u001b[32m'SQL'\u001b[0m: \u001b[32m\"SELECT DISTINCT Paper_Keywords.keyword FROM Paper_Keywords JOIN \u001b[0m\u001b[32m(\u001b[0m\u001b[32mSELECT paper_id FROM Venue_Papers WHERE venue_id = \u001b[0m\u001b[32m(\u001b[0m\u001b[32mSELECT id FROM Venue WHERE DisplayName = 'Science and Technology Management Research'\u001b[0m\u001b[32m)\u001b[0m\u001b[32m)\u001b[0m\u001b[32m AS STM_Papers ON Paper_Keywords.paper_id = STM_Papers.paper_id;\"\u001b[0m,\n",
       "\u001b[2;32m│   │   \u001b[0m\u001b[32m'db_path'\u001b[0m: \u001b[32m'../data/domains/databases/Aminer_Simplified/Aminer_Simplified.sqlite'\u001b[0m,\n",
       "\u001b[2;32m│   │   \u001b[0m\u001b[32m'prompt'\u001b[0m: \u001b[32m\"\u001b[0m\u001b[32m<\u001b[0m\u001b[32m｜begin▁of▁sentence｜\u001b[0m\u001b[32m>\u001b[0m\u001b[32mYou are an AI programming assistant, utilizing the Deepseek Coder model, developed by Deepseek Company, and you only answer questions related to computer science. For politically sensitive questions, security and privacy issues, and other non-computer science questions, you will refuse to answer\\n### Instruction:\\n\\n# Follow these instruction:\\nYou will be given schemas of tables of a database. Your job is to write correct\\nerror free SQL query based on the question asked. Please make sure:\\n\\n1. Do not add ``` at start / end of the query. It should be a single line query in a  single line \u001b[0m\u001b[32m(\u001b[0m\u001b[32mstring format\u001b[0m\u001b[32m)\u001b[0m\u001b[32m\\n2. Make sure the column names are correct and exists in the table\\n3. For column names which has a space with it, make sure you have put `` in that column name\\n4. Think step by step and always check schema and question and the column names before writing the\\nquery. \\n\\n# Database and Table Schema:\\nCREATE TABLE Venue\u001b[0m\u001b[32m(\u001b[0m\u001b[32m\\n  id TEXT, -- id\\n  DisplayName TEXT, -- name of the conferenece/joural\\n  PRIMARY KEY \u001b[0m\u001b[32m(\u001b[0m\u001b[32mid\u001b[0m\u001b[32m)\u001b[0m\u001b[32m\\n\u001b[0m\u001b[32m)\u001b[0m\u001b[32m\\nCREATE TABLE Affiliation\u001b[0m\u001b[32m(\u001b[0m\u001b[32m\\n  id TEXT, -- id\\n  DisplayName TEXT, -- name of the orgnization\\n  type TEXT, -- orgnization type\\n  url TEXT, -- link of the orgnization's homepage\\n  PRIMARY KEY \u001b[0m\u001b[32m(\u001b[0m\u001b[32mid\u001b[0m\u001b[32m)\u001b[0m\u001b[32m\\n\u001b[0m\u001b[32m)\u001b[0m\u001b[32m\\nCREATE TABLE Author\u001b[0m\u001b[32m(\u001b[0m\u001b[32m\\n  id TEXT, -- id\\n  name TEXT, -- name\\n  org TEXT, -- author's current orgnization\\n  position TEXT, -- position\\n  n_pubs INTEGER, -- number of paper publication\\n  n_citation INTEGER, -- number of total citation\\n  h_index INTEGER, -- h-index\\n  PRIMARY KEY \u001b[0m\u001b[32m(\u001b[0m\u001b[32mid\u001b[0m\u001b[32m)\u001b[0m\u001b[32m\\n\u001b[0m\u001b[32m)\u001b[0m\u001b[32m\\nCREATE TABLE Paper\u001b[0m\u001b[32m(\u001b[0m\u001b[32m\\n  id TEXT, -- id\\n  title TEXT, -- title\\n  year INTEGER, -- publication year\\n  n_citation INTEGER, -- number of citation\\n  page_start TEXT, -- start page on the publication\\n  page_end TEXT, -- end page on the publication\\n  lang TEXT, -- language\\n  volume TEXT, -- volume of the publicaiton\\n  doi TEXT, -- digital object unique identifier\\n  pdf TEXT, -- pdf view link of the paper\\n  abstract TEXT, -- paper abstract\\n  PRIMARY KEY \u001b[0m\u001b[32m(\u001b[0m\u001b[32mid\u001b[0m\u001b[32m)\u001b[0m\u001b[32m\\n\u001b[0m\u001b[32m)\u001b[0m\u001b[32m\\nCREATE TABLE Venue_Papers\u001b[0m\u001b[32m(\u001b[0m\u001b[32m\\n  venue_id TEXT, -- venue_id\\n  paper_id TEXT, -- paper_id\\n  FOREIGN KEY \u001b[0m\u001b[32m(\u001b[0m\u001b[32mvenue_id\u001b[0m\u001b[32m)\u001b[0m\u001b[32m REFERENCES Venue\u001b[0m\u001b[32m(\u001b[0m\u001b[32mid\u001b[0m\u001b[32m)\u001b[0m\u001b[32m,\\n  FOREIGN KEY \u001b[0m\u001b[32m(\u001b[0m\u001b[32mpaper_id\u001b[0m\u001b[32m)\u001b[0m\u001b[32m REFERENCES Paper\u001b[0m\u001b[32m(\u001b[0m\u001b[32mid\u001b[0m\u001b[32m)\u001b[0m\u001b[32m\\n\u001b[0m\u001b[32m)\u001b[0m\u001b[32m\\nCREATE TABLE Paper_Keywords\u001b[0m\u001b[32m(\u001b[0m\u001b[32m\\n  paper_id TEXT, -- paper_id\\n  keyword TEXT, -- a keyword of the paper\\n  FOREIGN KEY \u001b[0m\u001b[32m(\u001b[0m\u001b[32mpaper_id\u001b[0m\u001b[32m)\u001b[0m\u001b[32m REFERENCES Paper\u001b[0m\u001b[32m(\u001b[0m\u001b[32mid\u001b[0m\u001b[32m)\u001b[0m\u001b[32m \\n\u001b[0m\u001b[32m)\u001b[0m\u001b[32m\\nCREATE TABLE Paper_Authors\u001b[0m\u001b[32m(\u001b[0m\u001b[32m\\n  paper_id TEXT, -- paper_id\\n  rank INTEGER, -- this author's rank\\n  author_id TEXT, -- author_id\\n  FOREIGN KEY \u001b[0m\u001b[32m(\u001b[0m\u001b[32mpaper_id\u001b[0m\u001b[32m)\u001b[0m\u001b[32m REFERENCES Paper\u001b[0m\u001b[32m(\u001b[0m\u001b[32mid\u001b[0m\u001b[32m)\u001b[0m\u001b[32m,\\n  FOREIGN KEY \u001b[0m\u001b[32m(\u001b[0m\u001b[32mauthor_id\u001b[0m\u001b[32m)\u001b[0m\u001b[32m REFERENCES Author\u001b[0m\u001b[32m(\u001b[0m\u001b[32mid\u001b[0m\u001b[32m)\u001b[0m\u001b[32m \\n\u001b[0m\u001b[32m)\u001b[0m\u001b[32m\\nCREATE TABLE Orgnization_Researchers\u001b[0m\u001b[32m(\u001b[0m\u001b[32m\\n  affiliation_name TEXT, -- name of affiliation that this researcher once belonged to\\n  author_id TEXT, -- author_id\\n  FOREIGN KEY \u001b[0m\u001b[32m(\u001b[0m\u001b[32mauthor_id\u001b[0m\u001b[32m)\u001b[0m\u001b[32m REFERENCES Author\u001b[0m\u001b[32m(\u001b[0m\u001b[32mid\u001b[0m\u001b[32m)\u001b[0m\u001b[32m\\n\u001b[0m\u001b[32m)\u001b[0m\u001b[32m\\nCREATE TABLE Researcher_Interests\u001b[0m\u001b[32m(\u001b[0m\u001b[32m\\n  author_id TEXT, -- author_id\\n  tag Text, -- research interest\\n  weight INTEGER, -- weight of this interest\\n  FOREIGN KEY \u001b[0m\u001b[32m(\u001b[0m\u001b[32mauthor_id\u001b[0m\u001b[32m)\u001b[0m\u001b[32m REFERENCES Author\u001b[0m\u001b[32m(\u001b[0m\u001b[32mid\u001b[0m\u001b[32m)\u001b[0m\u001b[32m\\n\u001b[0m\u001b[32m)\u001b[0m\u001b[32m\\n\\n\\n\\n# Here are some Examples on how to generate SQL statements and use column names:\\n\\nQuestion: Show the different keywords articles which has shown at Science and Technology Management Research used.\\nSQL: SELECT DISTINCT Paper_Keywords.keyword FROM Paper_Keywords JOIN \u001b[0m\u001b[32m(\u001b[0m\u001b[32mSELECT paper_id FROM Venue_Papers WHERE venue_id = \u001b[0m\u001b[32m(\u001b[0m\u001b[32mSELECT id FROM Venue WHERE DisplayName = 'Science and Technology Management Research'\u001b[0m\u001b[32m)\u001b[0m\u001b[32m)\u001b[0m\u001b[32m AS STM_Papers ON Paper_Keywords.paper_id = STM_Papers.paper_id;\\n\\nQuestion: Where to find the pdf file of the paper 'Femtochemistry.'?\\nSQL: SELECT Paper.pdf FROM Paper WHERE Paper.title = 'Femtochemistry.';\\n\\nQuestion: find researcher who published all his paper after 2016.\\nSQL: SELECT Author.name FROM Author WHERE Author.id NOT IN      \u001b[0m\u001b[32m(\u001b[0m\u001b[32mSELECT Paper_Authors.author_id      FROM Paper_Authors      JOIN Paper ON Paper_Authors.paper_id = Paper.id      WHERE Paper.year <= 2016\u001b[0m\u001b[32m)\u001b[0m\u001b[32m GROUP BY Author.name;\\n\\n\\n# Question: Show the different keywords articles which has shown at Science and Technology Management Research used.\\n\\n# SQL: \\n\\n\"\u001b[0m\n",
       "\u001b[2;32m│   \u001b[0m\u001b[1m}\u001b[0m\n",
       "\u001b[1m}\u001b[0m"
      ]
     },
     "execution_count": 6,
     "metadata": {},
     "output_type": "execute_result"
    }
   ],
   "source": [
    "## Loading Domains dataset\n",
    "\n",
    "domains = Text2SQLDataset(\n",
    "    dataset_name=\"domains\",\n",
    "    split=\"train\",\n",
    "    dataset_folder=\"../data\",\n",
    ").setup_dataset(\n",
    "    num_fewshot=3,\n",
    "    num_rows=3,\n",
    "    model_name_or_path=\"premai-io/prem-1B-SQL\",\n",
    ")\n",
    "\n",
    "domains[0]"
   ]
  },
  {
   "cell_type": "code",
   "execution_count": 7,
   "metadata": {},
   "outputs": [
    {
     "name": "stderr",
     "output_type": "stream",
     "text": [
      "Applying prompt: 100%|██████████| 3/3 [00:00<00:00, 16491.37it/s]\n",
      "2024-09-04 00:07:18,922 - [DATASET] - INFO - Casted dataset with model chat template\n",
      "2024-09-04 00:07:18,923 - [DATASET] - INFO - Starting Tokenization ...\n",
      "Tokenizing: 100%|██████████| 3/3 [00:00<00:00, 554.97it/s]\n",
      "Tokenizing: 100%|██████████| 3/3 [00:00<00:00, 1005.35it/s]\n"
     ]
    },
    {
     "data": {
      "text/html": [
       "<pre style=\"white-space:pre;overflow-x:auto;line-height:normal;font-family:Menlo,'DejaVu Sans Mono',consolas,'Courier New',monospace\"></pre>\n"
      ],
      "text/plain": []
     },
     "metadata": {},
     "output_type": "display_data"
    },
    {
     "data": {
      "text/plain": [
       "\n",
       "\u001b[1m{\u001b[0m\n",
       "\u001b[2;32m│   \u001b[0m\u001b[32m'input_ids'\u001b[0m: \u001b[1;35mtensor\u001b[0m\u001b[1m(\u001b[0m\u001b[1m[\u001b[0m\u001b[1;36m32013\u001b[0m, \u001b[1;36m32013\u001b[0m,  \u001b[1;36m2042\u001b[0m,   \u001b[1;36m417\u001b[0m,   \u001b[1;36m274\u001b[0m, \u001b[1;36m20926\u001b[0m, \u001b[1;36m14244\u001b[0m, \u001b[1;36m20391\u001b[0m,    \u001b[1;36m11\u001b[0m, \u001b[1;36m26696\u001b[0m,\n",
       "\u001b[2;32m│   │     \u001b[0m\u001b[1;36m254\u001b[0m, \u001b[1;36m20676\u001b[0m, \u001b[1;36m30742\u001b[0m,   \u001b[1;36m339\u001b[0m,  \u001b[1;36m8589\u001b[0m,  \u001b[1;36m2008\u001b[0m,    \u001b[1;36m11\u001b[0m,  \u001b[1;36m6908\u001b[0m,   \u001b[1;36m457\u001b[0m, \u001b[1;36m20676\u001b[0m,\n",
       "\u001b[2;32m│   │   \u001b[0m\u001b[1;36m30742\u001b[0m,  \u001b[1;36m7958\u001b[0m,    \u001b[1;36m11\u001b[0m,   \u001b[1;36m285\u001b[0m,   \u001b[1;36m340\u001b[0m,   \u001b[1;36m885\u001b[0m,  \u001b[1;36m3495\u001b[0m,  \u001b[1;36m4301\u001b[0m,  \u001b[1;36m4512\u001b[0m,   \u001b[1;36m276\u001b[0m,\n",
       "\u001b[2;32m│   │    \u001b[0m\u001b[1;36m4531\u001b[0m,  \u001b[1;36m8214\u001b[0m,    \u001b[1;36m13\u001b[0m,  \u001b[1;36m1487\u001b[0m,  \u001b[1;36m4636\u001b[0m,  \u001b[1;36m2223\u001b[0m, \u001b[1;36m13143\u001b[0m,  \u001b[1;36m4301\u001b[0m,    \u001b[1;36m11\u001b[0m,  \u001b[1;36m5411\u001b[0m,\n",
       "\u001b[2;32m│   │     \u001b[0m\u001b[1;36m285\u001b[0m, \u001b[1;36m13936\u001b[0m,  \u001b[1;36m4447\u001b[0m,    \u001b[1;36m11\u001b[0m,   \u001b[1;36m285\u001b[0m,   \u001b[1;36m746\u001b[0m,  \u001b[1;36m2159\u001b[0m,    \u001b[1;36m12\u001b[0m, \u001b[1;36m13517\u001b[0m,   \u001b[1;36m250\u001b[0m,\n",
       "\u001b[2;32m│   │    \u001b[0m\u001b[1;36m8214\u001b[0m,  \u001b[1;36m4301\u001b[0m,    \u001b[1;36m11\u001b[0m,   \u001b[1;36m340\u001b[0m,   \u001b[1;36m540\u001b[0m, \u001b[1;36m20857\u001b[0m,   \u001b[1;36m276\u001b[0m,  \u001b[1;36m3495\u001b[0m,   \u001b[1;36m185\u001b[0m, \u001b[1;36m13518\u001b[0m,\n",
       "\u001b[2;32m│   │    \u001b[0m\u001b[1;36m3649\u001b[0m,  \u001b[1;36m3475\u001b[0m,    \u001b[1;36m25\u001b[0m,   \u001b[1;36m185\u001b[0m,   \u001b[1;36m185\u001b[0m,     \u001b[1;36m2\u001b[0m, \u001b[1;36m23114\u001b[0m,  \u001b[1;36m1067\u001b[0m, \u001b[1;36m12271\u001b[0m,    \u001b[1;36m25\u001b[0m,\n",
       "\u001b[2;32m│   │     \u001b[0m\u001b[1;36m185\u001b[0m,  \u001b[1;36m2042\u001b[0m,   \u001b[1;36m540\u001b[0m,   \u001b[1;36m330\u001b[0m,  \u001b[1;36m2017\u001b[0m,  \u001b[1;36m3947\u001b[0m,  \u001b[1;36m5202\u001b[0m,   \u001b[1;36m280\u001b[0m,  \u001b[1;36m7214\u001b[0m,   \u001b[1;36m280\u001b[0m,\n",
       "\u001b[2;32m│   │     \u001b[0m\u001b[1;36m245\u001b[0m,  \u001b[1;36m4892\u001b[0m,    \u001b[1;36m13\u001b[0m,  \u001b[1;36m4506\u001b[0m,  \u001b[1;36m3100\u001b[0m,   \u001b[1;36m317\u001b[0m,   \u001b[1;36m276\u001b[0m,  \u001b[1;36m3697\u001b[0m,  \u001b[1;36m2907\u001b[0m,   \u001b[1;36m185\u001b[0m,\n",
       "\u001b[2;32m│   │    \u001b[0m\u001b[1;36m4014\u001b[0m,  \u001b[1;36m2082\u001b[0m,  \u001b[1;36m5975\u001b[0m,  \u001b[1;36m5151\u001b[0m,  \u001b[1;36m2842\u001b[0m,   \u001b[1;36m331\u001b[0m,   \u001b[1;36m254\u001b[0m,  \u001b[1;36m2503\u001b[0m,  \u001b[1;36m3625\u001b[0m,    \u001b[1;36m13\u001b[0m,\n",
       "\u001b[2;32m│   │    \u001b[0m\u001b[1;36m6456\u001b[0m,  \u001b[1;36m1098\u001b[0m,  \u001b[1;36m2037\u001b[0m,    \u001b[1;36m25\u001b[0m,   \u001b[1;36m185\u001b[0m,   \u001b[1;36m185\u001b[0m,    \u001b[1;36m16\u001b[0m,    \u001b[1;36m13\u001b[0m,  \u001b[1;36m3119\u001b[0m,   \u001b[1;36m441\u001b[0m,\n",
       "\u001b[2;32m│   │     \u001b[0m\u001b[1;36m957\u001b[0m,  \u001b[1;36m2220\u001b[0m,  \u001b[1;36m4686\u001b[0m,   \u001b[1;36m429\u001b[0m,  \u001b[1;36m1328\u001b[0m,   \u001b[1;36m889\u001b[0m,  \u001b[1;36m1223\u001b[0m,   \u001b[1;36m280\u001b[0m,   \u001b[1;36m254\u001b[0m,  \u001b[1;36m5151\u001b[0m,\n",
       "\u001b[2;32m│   │      \u001b[0m\u001b[1;36m13\u001b[0m,   \u001b[1;36m804\u001b[0m,  \u001b[1;36m1020\u001b[0m,   \u001b[1;36m330\u001b[0m,   \u001b[1;36m245\u001b[0m,  \u001b[1;36m2805\u001b[0m,  \u001b[1;36m1348\u001b[0m,  \u001b[1;36m5151\u001b[0m,   \u001b[1;36m279\u001b[0m,   \u001b[1;36m245\u001b[0m,\n",
       "\u001b[2;32m│   │     \u001b[0m\u001b[1;36m207\u001b[0m,  \u001b[1;36m2805\u001b[0m,  \u001b[1;36m1348\u001b[0m,   \u001b[1;36m334\u001b[0m,  \u001b[1;36m2600\u001b[0m,  \u001b[1;36m4797\u001b[0m,     \u001b[1;36m8\u001b[0m,   \u001b[1;36m185\u001b[0m,    \u001b[1;36m17\u001b[0m,    \u001b[1;36m13\u001b[0m,\n",
       "\u001b[2;32m│   │    \u001b[0m\u001b[1;36m8518\u001b[0m,  \u001b[1;36m2037\u001b[0m,   \u001b[1;36m254\u001b[0m,  \u001b[1;36m3812\u001b[0m,  \u001b[1;36m4761\u001b[0m,   \u001b[1;36m417\u001b[0m,  \u001b[1;36m2907\u001b[0m,   \u001b[1;36m285\u001b[0m,  \u001b[1;36m6051\u001b[0m,   \u001b[1;36m279\u001b[0m,\n",
       "\u001b[2;32m│   │     \u001b[0m\u001b[1;36m254\u001b[0m,  \u001b[1;36m2365\u001b[0m,   \u001b[1;36m185\u001b[0m,    \u001b[1;36m18\u001b[0m,    \u001b[1;36m13\u001b[0m,  \u001b[1;36m1487\u001b[0m,  \u001b[1;36m3812\u001b[0m,  \u001b[1;36m4761\u001b[0m,   \u001b[1;36m585\u001b[0m,   \u001b[1;36m638\u001b[0m,\n",
       "\u001b[2;32m│   │     \u001b[0m\u001b[1;36m245\u001b[0m,  \u001b[1;36m2507\u001b[0m,   \u001b[1;36m365\u001b[0m,   \u001b[1;36m359\u001b[0m,    \u001b[1;36m11\u001b[0m,  \u001b[1;36m1098\u001b[0m,  \u001b[1;36m2037\u001b[0m,   \u001b[1;36m340\u001b[0m,   \u001b[1;36m463\u001b[0m,  \u001b[1;36m1947\u001b[0m,\n",
       "\u001b[2;32m│   │    \u001b[0m\u001b[1;36m6236\u001b[0m,   \u001b[1;36m279\u001b[0m,   \u001b[1;36m344\u001b[0m,  \u001b[1;36m3812\u001b[0m,  \u001b[1;36m1208\u001b[0m,   \u001b[1;36m185\u001b[0m,    \u001b[1;36m19\u001b[0m,    \u001b[1;36m13\u001b[0m, \u001b[1;36m18618\u001b[0m,  \u001b[1;36m3443\u001b[0m,\n",
       "\u001b[2;32m│   │     \u001b[0m\u001b[1;36m457\u001b[0m,  \u001b[1;36m3443\u001b[0m,   \u001b[1;36m285\u001b[0m,  \u001b[1;36m1948\u001b[0m,  \u001b[1;36m2332\u001b[0m, \u001b[1;36m16135\u001b[0m,   \u001b[1;36m285\u001b[0m,  \u001b[1;36m2503\u001b[0m,   \u001b[1;36m285\u001b[0m,   \u001b[1;36m254\u001b[0m,\n",
       "\u001b[2;32m│   │    \u001b[0m\u001b[1;36m3812\u001b[0m,  \u001b[1;36m4761\u001b[0m,  \u001b[1;36m1321\u001b[0m,  \u001b[1;36m4445\u001b[0m,   \u001b[1;36m254\u001b[0m,   \u001b[1;36m185\u001b[0m,  \u001b[1;36m5112\u001b[0m,    \u001b[1;36m13\u001b[0m,   \u001b[1;36m207\u001b[0m,   \u001b[1;36m185\u001b[0m,\n",
       "\u001b[2;32m│   │     \u001b[0m\u001b[1;36m185\u001b[0m,     \u001b[1;36m2\u001b[0m, \u001b[1;36m17984\u001b[0m,   \u001b[1;36m285\u001b[0m,  \u001b[1;36m6922\u001b[0m, \u001b[1;36m11593\u001b[0m,   \u001b[1;36m732\u001b[0m,    \u001b[1;36m25\u001b[0m,   \u001b[1;36m185\u001b[0m, \u001b[1;36m13403\u001b[0m,\n",
       "\u001b[2;32m│   │   \u001b[0m\u001b[1;36m11866\u001b[0m,  \u001b[1;36m6580\u001b[0m,  \u001b[1;36m5885\u001b[0m,   \u001b[1;36m334\u001b[0m,    \u001b[1;36m82\u001b[0m,  \u001b[1;36m2892\u001b[0m,  \u001b[1;36m5885\u001b[0m,    \u001b[1;36m62\u001b[0m,   \u001b[1;36m304\u001b[0m, \u001b[1;36m19440\u001b[0m,\n",
       "\u001b[2;32m│   │      \u001b[0m\u001b[1;36m11\u001b[0m,  \u001b[1;36m1208\u001b[0m,   \u001b[1;36m323\u001b[0m, \u001b[1;36m13532\u001b[0m,    \u001b[1;36m11\u001b[0m,  \u001b[1;36m4917\u001b[0m,   \u001b[1;36m323\u001b[0m, \u001b[1;36m13532\u001b[0m,   \u001b[1;36m477\u001b[0m, \u001b[1;36m28414\u001b[0m,\n",
       "\u001b[2;32m│   │   \u001b[0m\u001b[1;36m14054\u001b[0m,  \u001b[1;36m6580\u001b[0m,  \u001b[1;36m5885\u001b[0m,   \u001b[1;36m334\u001b[0m,    \u001b[1;36m82\u001b[0m,  \u001b[1;36m2892\u001b[0m,  \u001b[1;36m5885\u001b[0m,    \u001b[1;36m62\u001b[0m,   \u001b[1;36m304\u001b[0m,    \u001b[1;36m11\u001b[0m,\n",
       "\u001b[2;32m│   │    \u001b[0m\u001b[1;36m1208\u001b[0m,    \u001b[1;36m11\u001b[0m,  \u001b[1;36m4917\u001b[0m,     \u001b[1;36m8\u001b[0m, \u001b[1;36m17896\u001b[0m,   \u001b[1;36m334\u001b[0m,    \u001b[1;36m16\u001b[0m,    \u001b[1;36m11\u001b[0m,   \u001b[1;36m651\u001b[0m, \u001b[1;36m12040\u001b[0m,\n",
       "\u001b[2;32m│   │    \u001b[0m\u001b[1;36m3119\u001b[0m,    \u001b[1;36m68\u001b[0m,  \u001b[1;36m1183\u001b[0m,   \u001b[1;36m651\u001b[0m, \u001b[1;36m25845\u001b[0m,  \u001b[1;36m8869\u001b[0m,   \u001b[1;36m334\u001b[0m,    \u001b[1;36m17\u001b[0m,    \u001b[1;36m11\u001b[0m,   \u001b[1;36m651\u001b[0m,\n",
       "\u001b[2;32m│   │      \u001b[0m\u001b[1;36m41\u001b[0m,  \u001b[1;36m2145\u001b[0m,  \u001b[1;36m8841\u001b[0m,  \u001b[1;36m1183\u001b[0m,   \u001b[1;36m651\u001b[0m, \u001b[1;36m26116\u001b[0m,  \u001b[1;36m3398\u001b[0m, \u001b[1;36m27287\u001b[0m,  \u001b[1;36m3996\u001b[0m, \u001b[1;36m11866\u001b[0m,\n",
       "\u001b[2;32m│   │   \u001b[0m\u001b[1;36m29372\u001b[0m,    \u001b[1;36m62\u001b[0m,    \u001b[1;36m82\u001b[0m,  \u001b[1;36m2892\u001b[0m,   \u001b[1;36m334\u001b[0m,    \u001b[1;36m82\u001b[0m,  \u001b[1;36m2892\u001b[0m,    \u001b[1;36m62\u001b[0m,   \u001b[1;36m304\u001b[0m, \u001b[1;36m19440\u001b[0m,\n",
       "\u001b[2;32m│   │      \u001b[0m\u001b[1;36m11\u001b[0m,  \u001b[1;36m6580\u001b[0m,  \u001b[1;36m5885\u001b[0m,    \u001b[1;36m62\u001b[0m,   \u001b[1;36m304\u001b[0m, \u001b[1;36m19440\u001b[0m,    \u001b[1;36m11\u001b[0m,  \u001b[1;36m6530\u001b[0m,  \u001b[1;36m5878\u001b[0m,  \u001b[1;36m1743\u001b[0m,\n",
       "\u001b[2;32m│   │      \u001b[0m\u001b[1;36m11\u001b[0m,  \u001b[1;36m6800\u001b[0m,    \u001b[1;36m62\u001b[0m,  \u001b[1;36m1984\u001b[0m,   \u001b[1;36m413\u001b[0m,  \u001b[1;36m3996\u001b[0m,   \u001b[1;36m477\u001b[0m, \u001b[1;36m28414\u001b[0m, \u001b[1;36m14054\u001b[0m, \u001b[1;36m29372\u001b[0m,\n",
       "\u001b[2;32m│   │      \u001b[0m\u001b[1;36m62\u001b[0m,    \u001b[1;36m82\u001b[0m,  \u001b[1;36m2892\u001b[0m,   \u001b[1;36m334\u001b[0m,    \u001b[1;36m82\u001b[0m,  \u001b[1;36m2892\u001b[0m,    \u001b[1;36m62\u001b[0m,   \u001b[1;36m304\u001b[0m,    \u001b[1;36m11\u001b[0m,  \u001b[1;36m6580\u001b[0m,\n",
       "\u001b[2;32m│   │    \u001b[0m\u001b[1;36m5885\u001b[0m,    \u001b[1;36m62\u001b[0m,   \u001b[1;36m304\u001b[0m,    \u001b[1;36m11\u001b[0m,  \u001b[1;36m6530\u001b[0m,    \u001b[1;36m11\u001b[0m,  \u001b[1;36m6800\u001b[0m,    \u001b[1;36m62\u001b[0m,  \u001b[1;36m1984\u001b[0m,     \u001b[1;36m8\u001b[0m,\n",
       "\u001b[2;32m│   │   \u001b[0m\u001b[1;36m17896\u001b[0m,   \u001b[1;36m334\u001b[0m,    \u001b[1;36m16\u001b[0m,    \u001b[1;36m11\u001b[0m,   \u001b[1;36m207\u001b[0m,    \u001b[1;36m16\u001b[0m,    \u001b[1;36m11\u001b[0m,   \u001b[1;36m207\u001b[0m,    \u001b[1;36m16\u001b[0m,    \u001b[1;36m17\u001b[0m,\n",
       "\u001b[2;32m│   │      \u001b[0m\u001b[1;36m15\u001b[0m,    \u001b[1;36m11\u001b[0m,   \u001b[1;36m651\u001b[0m,    \u001b[1;36m17\u001b[0m,    \u001b[1;36m15\u001b[0m,    \u001b[1;36m17\u001b[0m,    \u001b[1;36m16\u001b[0m,    \u001b[1;36m12\u001b[0m,    \u001b[1;36m15\u001b[0m,    \u001b[1;36m16\u001b[0m,\n",
       "\u001b[2;32m│   │      \u001b[0m\u001b[1;36m12\u001b[0m,    \u001b[1;36m15\u001b[0m,    \u001b[1;36m16\u001b[0m,  \u001b[1;36m8869\u001b[0m,   \u001b[1;36m334\u001b[0m,    \u001b[1;36m17\u001b[0m,    \u001b[1;36m11\u001b[0m,   \u001b[1;36m207\u001b[0m,    \u001b[1;36m16\u001b[0m,    \u001b[1;36m11\u001b[0m,\n",
       "\u001b[2;32m│   │     \u001b[0m\u001b[1;36m207\u001b[0m,    \u001b[1;36m16\u001b[0m,    \u001b[1;36m20\u001b[0m,    \u001b[1;36m15\u001b[0m,    \u001b[1;36m11\u001b[0m,   \u001b[1;36m651\u001b[0m,    \u001b[1;36m17\u001b[0m,    \u001b[1;36m15\u001b[0m,    \u001b[1;36m17\u001b[0m,    \u001b[1;36m16\u001b[0m,\n",
       "\u001b[2;32m│   │      \u001b[0m\u001b[1;36m12\u001b[0m,    \u001b[1;36m15\u001b[0m,    \u001b[1;36m17\u001b[0m,    \u001b[1;36m12\u001b[0m,    \u001b[1;36m15\u001b[0m,    \u001b[1;36m16\u001b[0m,  \u001b[1;36m8869\u001b[0m,   \u001b[1;36m334\u001b[0m,    \u001b[1;36m18\u001b[0m,    \u001b[1;36m11\u001b[0m,\n",
       "\u001b[2;32m│   │     \u001b[0m\u001b[1;36m207\u001b[0m,    \u001b[1;36m17\u001b[0m,    \u001b[1;36m11\u001b[0m,   \u001b[1;36m207\u001b[0m,    \u001b[1;36m16\u001b[0m,    \u001b[1;36m23\u001b[0m,    \u001b[1;36m15\u001b[0m,    \u001b[1;36m11\u001b[0m,   \u001b[1;36m651\u001b[0m,    \u001b[1;36m17\u001b[0m,\n",
       "\u001b[2;32m│   │      \u001b[0m\u001b[1;36m15\u001b[0m,    \u001b[1;36m17\u001b[0m,    \u001b[1;36m16\u001b[0m,    \u001b[1;36m12\u001b[0m,    \u001b[1;36m15\u001b[0m,    \u001b[1;36m16\u001b[0m,    \u001b[1;36m12\u001b[0m,    \u001b[1;36m15\u001b[0m,    \u001b[1;36m16\u001b[0m,  \u001b[1;36m3398\u001b[0m,\n",
       "\u001b[2;32m│   │     \u001b[0m\u001b[1;36m185\u001b[0m,   \u001b[1;36m185\u001b[0m,   \u001b[1;36m185\u001b[0m,   \u001b[1;36m185\u001b[0m,     \u001b[1;36m2\u001b[0m,  \u001b[1;36m4451\u001b[0m,   \u001b[1;36m417\u001b[0m,   \u001b[1;36m738\u001b[0m, \u001b[1;36m30609\u001b[0m,   \u001b[1;36m331\u001b[0m,\n",
       "\u001b[2;32m│   │     \u001b[0m\u001b[1;36m940\u001b[0m,   \u001b[1;36m276\u001b[0m,  \u001b[1;36m8297\u001b[0m,  \u001b[1;36m5975\u001b[0m, \u001b[1;36m12874\u001b[0m,   \u001b[1;36m285\u001b[0m,   \u001b[1;36m931\u001b[0m,  \u001b[1;36m3812\u001b[0m,  \u001b[1;36m4761\u001b[0m,    \u001b[1;36m25\u001b[0m,\n",
       "\u001b[2;32m│   │     \u001b[0m\u001b[1;36m185\u001b[0m,   \u001b[1;36m185\u001b[0m, \u001b[1;36m23933\u001b[0m,    \u001b[1;36m25\u001b[0m,  \u001b[1;36m2450\u001b[0m,   \u001b[1;36m317\u001b[0m,   \u001b[1;36m254\u001b[0m,  \u001b[1;36m3212\u001b[0m,  \u001b[1;36m6530\u001b[0m,   \u001b[1;36m280\u001b[0m,\n",
       "\u001b[2;32m│   │   \u001b[0m\u001b[1;36m29372\u001b[0m,  \u001b[1;36m5140\u001b[0m,   \u001b[1;36m457\u001b[0m,  \u001b[1;36m1317\u001b[0m,  \u001b[1;36m6580\u001b[0m,  \u001b[1;36m5885\u001b[0m,    \u001b[1;36m11\u001b[0m, \u001b[1;36m24442\u001b[0m,   \u001b[1;36m457\u001b[0m,  \u001b[1;36m6580\u001b[0m,\n",
       "\u001b[2;32m│   │    \u001b[0m\u001b[1;36m5885\u001b[0m,    \u001b[1;36m30\u001b[0m,   \u001b[1;36m185\u001b[0m,  \u001b[1;36m6231\u001b[0m,    \u001b[1;36m25\u001b[0m, \u001b[1;36m11789\u001b[0m,  \u001b[1;36m6580\u001b[0m,  \u001b[1;36m5885\u001b[0m,    \u001b[1;36m62\u001b[0m,   \u001b[1;36m304\u001b[0m,\n",
       "\u001b[2;32m│   │      \u001b[0m\u001b[1;36m11\u001b[0m,  \u001b[1;36m1208\u001b[0m,    \u001b[1;36m11\u001b[0m, \u001b[1;36m20861\u001b[0m,     \u001b[1;36m7\u001b[0m, \u001b[1;36m19723\u001b[0m,     \u001b[1;36m8\u001b[0m,   \u001b[1;36m372\u001b[0m,  \u001b[1;36m3212\u001b[0m,    \u001b[1;36m62\u001b[0m,\n",
       "\u001b[2;32m│   │   \u001b[0m\u001b[1;36m19723\u001b[0m,  \u001b[1;36m7432\u001b[0m, \u001b[1;36m29372\u001b[0m,    \u001b[1;36m62\u001b[0m,    \u001b[1;36m82\u001b[0m,  \u001b[1;36m2892\u001b[0m, \u001b[1;36m13721\u001b[0m,  \u001b[1;36m6580\u001b[0m,  \u001b[1;36m5885\u001b[0m,  \u001b[1;36m6511\u001b[0m,\n",
       "\u001b[2;32m│   │   \u001b[0m\u001b[1;36m29372\u001b[0m,    \u001b[1;36m62\u001b[0m,    \u001b[1;36m82\u001b[0m,  \u001b[1;36m2892\u001b[0m,    \u001b[1;36m13\u001b[0m,    \u001b[1;36m82\u001b[0m,  \u001b[1;36m2892\u001b[0m,  \u001b[1;36m5885\u001b[0m,    \u001b[1;36m62\u001b[0m,   \u001b[1;36m304\u001b[0m,\n",
       "\u001b[2;32m│   │     \u001b[0m\u001b[1;36m405\u001b[0m,  \u001b[1;36m6580\u001b[0m,  \u001b[1;36m5885\u001b[0m,    \u001b[1;36m13\u001b[0m,    \u001b[1;36m82\u001b[0m,  \u001b[1;36m2892\u001b[0m,  \u001b[1;36m5885\u001b[0m,    \u001b[1;36m62\u001b[0m,   \u001b[1;36m304\u001b[0m, \u001b[1;36m29561\u001b[0m,\n",
       "\u001b[2;32m│   │    \u001b[0m\u001b[1;36m9784\u001b[0m,  \u001b[1;36m6580\u001b[0m,  \u001b[1;36m5885\u001b[0m,    \u001b[1;36m62\u001b[0m,   \u001b[1;36m304\u001b[0m,    \u001b[1;36m11\u001b[0m,  \u001b[1;36m1208\u001b[0m, \u001b[1;36m25554\u001b[0m,  \u001b[1;36m9784\u001b[0m,  \u001b[1;36m3212\u001b[0m,\n",
       "\u001b[2;32m│   │      \u001b[0m\u001b[1;36m62\u001b[0m, \u001b[1;36m19723\u001b[0m, \u001b[1;36m22187\u001b[0m,    \u001b[1;36m34\u001b[0m,    \u001b[1;36m26\u001b[0m,   \u001b[1;36m185\u001b[0m,   \u001b[1;36m185\u001b[0m,   \u001b[1;36m185\u001b[0m,     \u001b[1;36m2\u001b[0m, \u001b[1;36m24417\u001b[0m,\n",
       "\u001b[2;32m│   │      \u001b[0m\u001b[1;36m25\u001b[0m,  \u001b[1;36m2450\u001b[0m,   \u001b[1;36m317\u001b[0m,   \u001b[1;36m254\u001b[0m,  \u001b[1;36m3212\u001b[0m,  \u001b[1;36m6530\u001b[0m,   \u001b[1;36m280\u001b[0m, \u001b[1;36m29372\u001b[0m,  \u001b[1;36m5140\u001b[0m,   \u001b[1;36m457\u001b[0m,\n",
       "\u001b[2;32m│   │    \u001b[0m\u001b[1;36m1317\u001b[0m,  \u001b[1;36m6580\u001b[0m,  \u001b[1;36m5885\u001b[0m,    \u001b[1;36m11\u001b[0m, \u001b[1;36m24442\u001b[0m,   \u001b[1;36m457\u001b[0m,  \u001b[1;36m6580\u001b[0m,  \u001b[1;36m5885\u001b[0m,    \u001b[1;36m30\u001b[0m,   \u001b[1;36m185\u001b[0m,\n",
       "\u001b[2;32m│   │     \u001b[0m\u001b[1;36m185\u001b[0m,     \u001b[1;36m2\u001b[0m,  \u001b[1;36m5975\u001b[0m,    \u001b[1;36m25\u001b[0m,   \u001b[1;36m207\u001b[0m,   \u001b[1;36m185\u001b[0m,   \u001b[1;36m185\u001b[0m,  \u001b[1;36m7507\u001b[0m,  \u001b[1;36m6580\u001b[0m,  \u001b[1;36m5885\u001b[0m,\n",
       "\u001b[2;32m│   │      \u001b[0m\u001b[1;36m62\u001b[0m,   \u001b[1;36m304\u001b[0m,    \u001b[1;36m11\u001b[0m,  \u001b[1;36m1208\u001b[0m,    \u001b[1;36m11\u001b[0m, \u001b[1;36m20861\u001b[0m,     \u001b[1;36m7\u001b[0m, \u001b[1;36m19723\u001b[0m,     \u001b[1;36m8\u001b[0m,   \u001b[1;36m372\u001b[0m,\n",
       "\u001b[2;32m│   │    \u001b[0m\u001b[1;36m3212\u001b[0m,    \u001b[1;36m62\u001b[0m, \u001b[1;36m19723\u001b[0m,  \u001b[1;36m7432\u001b[0m, \u001b[1;36m29372\u001b[0m,    \u001b[1;36m62\u001b[0m,    \u001b[1;36m82\u001b[0m,  \u001b[1;36m2892\u001b[0m, \u001b[1;36m13721\u001b[0m,  \u001b[1;36m6580\u001b[0m,\n",
       "\u001b[2;32m│   │    \u001b[0m\u001b[1;36m5885\u001b[0m,  \u001b[1;36m6511\u001b[0m, \u001b[1;36m29372\u001b[0m,    \u001b[1;36m62\u001b[0m,    \u001b[1;36m82\u001b[0m,  \u001b[1;36m2892\u001b[0m,    \u001b[1;36m13\u001b[0m,    \u001b[1;36m82\u001b[0m,  \u001b[1;36m2892\u001b[0m,  \u001b[1;36m5885\u001b[0m,\n",
       "\u001b[2;32m│   │      \u001b[0m\u001b[1;36m62\u001b[0m,   \u001b[1;36m304\u001b[0m,   \u001b[1;36m405\u001b[0m,  \u001b[1;36m6580\u001b[0m,  \u001b[1;36m5885\u001b[0m,    \u001b[1;36m13\u001b[0m,    \u001b[1;36m82\u001b[0m,  \u001b[1;36m2892\u001b[0m,  \u001b[1;36m5885\u001b[0m,    \u001b[1;36m62\u001b[0m,\n",
       "\u001b[2;32m│   │     \u001b[0m\u001b[1;36m304\u001b[0m, \u001b[1;36m29561\u001b[0m,  \u001b[1;36m9784\u001b[0m,  \u001b[1;36m6580\u001b[0m,  \u001b[1;36m5885\u001b[0m,    \u001b[1;36m62\u001b[0m,   \u001b[1;36m304\u001b[0m,    \u001b[1;36m11\u001b[0m,  \u001b[1;36m1208\u001b[0m, \u001b[1;36m25554\u001b[0m,\n",
       "\u001b[2;32m│   │    \u001b[0m\u001b[1;36m9784\u001b[0m,  \u001b[1;36m3212\u001b[0m,    \u001b[1;36m62\u001b[0m, \u001b[1;36m19723\u001b[0m, \u001b[1;36m22187\u001b[0m,    \u001b[1;36m34\u001b[0m,    \u001b[1;36m26\u001b[0m, \u001b[1;36m32021\u001b[0m\u001b[1m]\u001b[0m\u001b[1m)\u001b[0m,\n",
       "\u001b[2;32m│   \u001b[0m\u001b[32m'labels'\u001b[0m: \u001b[1;35mtensor\u001b[0m\u001b[1m(\u001b[0m\u001b[1m[\u001b[0m \u001b[1;36m-100\u001b[0m,  \u001b[1;36m-100\u001b[0m,  \u001b[1;36m-100\u001b[0m,  \u001b[1;36m-100\u001b[0m,  \u001b[1;36m-100\u001b[0m,  \u001b[1;36m-100\u001b[0m,  \u001b[1;36m-100\u001b[0m,  \u001b[1;36m-100\u001b[0m,  \u001b[1;36m-100\u001b[0m,  \u001b[1;36m-100\u001b[0m,\n",
       "\u001b[2;32m│   │    \u001b[0m\u001b[1;36m-100\u001b[0m,  \u001b[1;36m-100\u001b[0m,  \u001b[1;36m-100\u001b[0m,  \u001b[1;36m-100\u001b[0m,  \u001b[1;36m-100\u001b[0m,  \u001b[1;36m-100\u001b[0m,  \u001b[1;36m-100\u001b[0m,  \u001b[1;36m-100\u001b[0m,  \u001b[1;36m-100\u001b[0m,  \u001b[1;36m-100\u001b[0m,\n",
       "\u001b[2;32m│   │    \u001b[0m\u001b[1;36m-100\u001b[0m,  \u001b[1;36m-100\u001b[0m,  \u001b[1;36m-100\u001b[0m,  \u001b[1;36m-100\u001b[0m,  \u001b[1;36m-100\u001b[0m,  \u001b[1;36m-100\u001b[0m,  \u001b[1;36m-100\u001b[0m,  \u001b[1;36m-100\u001b[0m,  \u001b[1;36m-100\u001b[0m,  \u001b[1;36m-100\u001b[0m,\n",
       "\u001b[2;32m│   │    \u001b[0m\u001b[1;36m-100\u001b[0m,  \u001b[1;36m-100\u001b[0m,  \u001b[1;36m-100\u001b[0m,  \u001b[1;36m-100\u001b[0m,  \u001b[1;36m-100\u001b[0m,  \u001b[1;36m-100\u001b[0m,  \u001b[1;36m-100\u001b[0m,  \u001b[1;36m-100\u001b[0m,  \u001b[1;36m-100\u001b[0m,  \u001b[1;36m-100\u001b[0m,\n",
       "\u001b[2;32m│   │    \u001b[0m\u001b[1;36m-100\u001b[0m,  \u001b[1;36m-100\u001b[0m,  \u001b[1;36m-100\u001b[0m,  \u001b[1;36m-100\u001b[0m,  \u001b[1;36m-100\u001b[0m,  \u001b[1;36m-100\u001b[0m,  \u001b[1;36m-100\u001b[0m,  \u001b[1;36m-100\u001b[0m,  \u001b[1;36m-100\u001b[0m,  \u001b[1;36m-100\u001b[0m,\n",
       "\u001b[2;32m│   │    \u001b[0m\u001b[1;36m-100\u001b[0m,  \u001b[1;36m-100\u001b[0m,  \u001b[1;36m-100\u001b[0m,  \u001b[1;36m-100\u001b[0m,  \u001b[1;36m-100\u001b[0m,  \u001b[1;36m-100\u001b[0m,  \u001b[1;36m-100\u001b[0m,  \u001b[1;36m-100\u001b[0m,  \u001b[1;36m-100\u001b[0m,  \u001b[1;36m-100\u001b[0m,\n",
       "\u001b[2;32m│   │    \u001b[0m\u001b[1;36m-100\u001b[0m,  \u001b[1;36m-100\u001b[0m,  \u001b[1;36m-100\u001b[0m,  \u001b[1;36m-100\u001b[0m,  \u001b[1;36m-100\u001b[0m,  \u001b[1;36m-100\u001b[0m,  \u001b[1;36m-100\u001b[0m,  \u001b[1;36m-100\u001b[0m,  \u001b[1;36m-100\u001b[0m,  \u001b[1;36m-100\u001b[0m,\n",
       "\u001b[2;32m│   │    \u001b[0m\u001b[1;36m-100\u001b[0m,  \u001b[1;36m-100\u001b[0m,  \u001b[1;36m-100\u001b[0m,  \u001b[1;36m-100\u001b[0m,  \u001b[1;36m-100\u001b[0m,  \u001b[1;36m-100\u001b[0m,  \u001b[1;36m-100\u001b[0m,  \u001b[1;36m-100\u001b[0m,  \u001b[1;36m-100\u001b[0m,  \u001b[1;36m-100\u001b[0m,\n",
       "\u001b[2;32m│   │    \u001b[0m\u001b[1;36m-100\u001b[0m,  \u001b[1;36m-100\u001b[0m,  \u001b[1;36m-100\u001b[0m,  \u001b[1;36m-100\u001b[0m,  \u001b[1;36m-100\u001b[0m,  \u001b[1;36m-100\u001b[0m,  \u001b[1;36m-100\u001b[0m,  \u001b[1;36m-100\u001b[0m,  \u001b[1;36m-100\u001b[0m,  \u001b[1;36m-100\u001b[0m,\n",
       "\u001b[2;32m│   │    \u001b[0m\u001b[1;36m-100\u001b[0m,  \u001b[1;36m-100\u001b[0m,  \u001b[1;36m-100\u001b[0m,  \u001b[1;36m-100\u001b[0m,  \u001b[1;36m-100\u001b[0m,  \u001b[1;36m-100\u001b[0m,  \u001b[1;36m-100\u001b[0m,  \u001b[1;36m-100\u001b[0m,  \u001b[1;36m-100\u001b[0m,  \u001b[1;36m-100\u001b[0m,\n",
       "\u001b[2;32m│   │    \u001b[0m\u001b[1;36m-100\u001b[0m,  \u001b[1;36m-100\u001b[0m,  \u001b[1;36m-100\u001b[0m,  \u001b[1;36m-100\u001b[0m,  \u001b[1;36m-100\u001b[0m,  \u001b[1;36m-100\u001b[0m,  \u001b[1;36m-100\u001b[0m,  \u001b[1;36m-100\u001b[0m,  \u001b[1;36m-100\u001b[0m,  \u001b[1;36m-100\u001b[0m,\n",
       "\u001b[2;32m│   │    \u001b[0m\u001b[1;36m-100\u001b[0m,  \u001b[1;36m-100\u001b[0m,  \u001b[1;36m-100\u001b[0m,  \u001b[1;36m-100\u001b[0m,  \u001b[1;36m-100\u001b[0m,  \u001b[1;36m-100\u001b[0m,  \u001b[1;36m-100\u001b[0m,  \u001b[1;36m-100\u001b[0m,  \u001b[1;36m-100\u001b[0m,  \u001b[1;36m-100\u001b[0m,\n",
       "\u001b[2;32m│   │    \u001b[0m\u001b[1;36m-100\u001b[0m,  \u001b[1;36m-100\u001b[0m,  \u001b[1;36m-100\u001b[0m,  \u001b[1;36m-100\u001b[0m,  \u001b[1;36m-100\u001b[0m,  \u001b[1;36m-100\u001b[0m,  \u001b[1;36m-100\u001b[0m,  \u001b[1;36m-100\u001b[0m,  \u001b[1;36m-100\u001b[0m,  \u001b[1;36m-100\u001b[0m,\n",
       "\u001b[2;32m│   │    \u001b[0m\u001b[1;36m-100\u001b[0m,  \u001b[1;36m-100\u001b[0m,  \u001b[1;36m-100\u001b[0m,  \u001b[1;36m-100\u001b[0m,  \u001b[1;36m-100\u001b[0m,  \u001b[1;36m-100\u001b[0m,  \u001b[1;36m-100\u001b[0m,  \u001b[1;36m-100\u001b[0m,  \u001b[1;36m-100\u001b[0m,  \u001b[1;36m-100\u001b[0m,\n",
       "\u001b[2;32m│   │    \u001b[0m\u001b[1;36m-100\u001b[0m,  \u001b[1;36m-100\u001b[0m,  \u001b[1;36m-100\u001b[0m,  \u001b[1;36m-100\u001b[0m,  \u001b[1;36m-100\u001b[0m,  \u001b[1;36m-100\u001b[0m,  \u001b[1;36m-100\u001b[0m,  \u001b[1;36m-100\u001b[0m,  \u001b[1;36m-100\u001b[0m,  \u001b[1;36m-100\u001b[0m,\n",
       "\u001b[2;32m│   │    \u001b[0m\u001b[1;36m-100\u001b[0m,  \u001b[1;36m-100\u001b[0m,  \u001b[1;36m-100\u001b[0m,  \u001b[1;36m-100\u001b[0m,  \u001b[1;36m-100\u001b[0m,  \u001b[1;36m-100\u001b[0m,  \u001b[1;36m-100\u001b[0m,  \u001b[1;36m-100\u001b[0m,  \u001b[1;36m-100\u001b[0m,  \u001b[1;36m-100\u001b[0m,\n",
       "\u001b[2;32m│   │    \u001b[0m\u001b[1;36m-100\u001b[0m,  \u001b[1;36m-100\u001b[0m,  \u001b[1;36m-100\u001b[0m,  \u001b[1;36m-100\u001b[0m,  \u001b[1;36m-100\u001b[0m,  \u001b[1;36m-100\u001b[0m,  \u001b[1;36m-100\u001b[0m,  \u001b[1;36m-100\u001b[0m,  \u001b[1;36m-100\u001b[0m,  \u001b[1;36m-100\u001b[0m,\n",
       "\u001b[2;32m│   │    \u001b[0m\u001b[1;36m-100\u001b[0m,  \u001b[1;36m-100\u001b[0m,  \u001b[1;36m-100\u001b[0m,  \u001b[1;36m-100\u001b[0m,  \u001b[1;36m-100\u001b[0m,  \u001b[1;36m-100\u001b[0m,  \u001b[1;36m-100\u001b[0m,  \u001b[1;36m-100\u001b[0m,  \u001b[1;36m-100\u001b[0m,  \u001b[1;36m-100\u001b[0m,\n",
       "\u001b[2;32m│   │    \u001b[0m\u001b[1;36m-100\u001b[0m,  \u001b[1;36m-100\u001b[0m,  \u001b[1;36m-100\u001b[0m,  \u001b[1;36m-100\u001b[0m,  \u001b[1;36m-100\u001b[0m,  \u001b[1;36m-100\u001b[0m,  \u001b[1;36m-100\u001b[0m,  \u001b[1;36m-100\u001b[0m,  \u001b[1;36m-100\u001b[0m,  \u001b[1;36m-100\u001b[0m,\n",
       "\u001b[2;32m│   │    \u001b[0m\u001b[1;36m-100\u001b[0m,  \u001b[1;36m-100\u001b[0m,  \u001b[1;36m-100\u001b[0m,  \u001b[1;36m-100\u001b[0m,  \u001b[1;36m-100\u001b[0m,  \u001b[1;36m-100\u001b[0m,  \u001b[1;36m-100\u001b[0m,  \u001b[1;36m-100\u001b[0m,  \u001b[1;36m-100\u001b[0m,  \u001b[1;36m-100\u001b[0m,\n",
       "\u001b[2;32m│   │    \u001b[0m\u001b[1;36m-100\u001b[0m,  \u001b[1;36m-100\u001b[0m,  \u001b[1;36m-100\u001b[0m,  \u001b[1;36m-100\u001b[0m,  \u001b[1;36m-100\u001b[0m,  \u001b[1;36m-100\u001b[0m,  \u001b[1;36m-100\u001b[0m,  \u001b[1;36m-100\u001b[0m,  \u001b[1;36m-100\u001b[0m,  \u001b[1;36m-100\u001b[0m,\n",
       "\u001b[2;32m│   │    \u001b[0m\u001b[1;36m-100\u001b[0m,  \u001b[1;36m-100\u001b[0m,  \u001b[1;36m-100\u001b[0m,  \u001b[1;36m-100\u001b[0m,  \u001b[1;36m-100\u001b[0m,  \u001b[1;36m-100\u001b[0m,  \u001b[1;36m-100\u001b[0m,  \u001b[1;36m-100\u001b[0m,  \u001b[1;36m-100\u001b[0m,  \u001b[1;36m-100\u001b[0m,\n",
       "\u001b[2;32m│   │    \u001b[0m\u001b[1;36m-100\u001b[0m,  \u001b[1;36m-100\u001b[0m,  \u001b[1;36m-100\u001b[0m,  \u001b[1;36m-100\u001b[0m,  \u001b[1;36m-100\u001b[0m,  \u001b[1;36m-100\u001b[0m,  \u001b[1;36m-100\u001b[0m,  \u001b[1;36m-100\u001b[0m,  \u001b[1;36m-100\u001b[0m,  \u001b[1;36m-100\u001b[0m,\n",
       "\u001b[2;32m│   │    \u001b[0m\u001b[1;36m-100\u001b[0m,  \u001b[1;36m-100\u001b[0m,  \u001b[1;36m-100\u001b[0m,  \u001b[1;36m-100\u001b[0m,  \u001b[1;36m-100\u001b[0m,  \u001b[1;36m-100\u001b[0m,  \u001b[1;36m-100\u001b[0m,  \u001b[1;36m-100\u001b[0m,  \u001b[1;36m-100\u001b[0m,  \u001b[1;36m-100\u001b[0m,\n",
       "\u001b[2;32m│   │    \u001b[0m\u001b[1;36m-100\u001b[0m,  \u001b[1;36m-100\u001b[0m,  \u001b[1;36m-100\u001b[0m,  \u001b[1;36m-100\u001b[0m,  \u001b[1;36m-100\u001b[0m,  \u001b[1;36m-100\u001b[0m,  \u001b[1;36m-100\u001b[0m,  \u001b[1;36m-100\u001b[0m,  \u001b[1;36m-100\u001b[0m,  \u001b[1;36m-100\u001b[0m,\n",
       "\u001b[2;32m│   │    \u001b[0m\u001b[1;36m-100\u001b[0m,  \u001b[1;36m-100\u001b[0m,  \u001b[1;36m-100\u001b[0m,  \u001b[1;36m-100\u001b[0m,  \u001b[1;36m-100\u001b[0m,  \u001b[1;36m-100\u001b[0m,  \u001b[1;36m-100\u001b[0m,  \u001b[1;36m-100\u001b[0m,  \u001b[1;36m-100\u001b[0m,  \u001b[1;36m-100\u001b[0m,\n",
       "\u001b[2;32m│   │    \u001b[0m\u001b[1;36m-100\u001b[0m,  \u001b[1;36m-100\u001b[0m,  \u001b[1;36m-100\u001b[0m,  \u001b[1;36m-100\u001b[0m,  \u001b[1;36m-100\u001b[0m,  \u001b[1;36m-100\u001b[0m,  \u001b[1;36m-100\u001b[0m,  \u001b[1;36m-100\u001b[0m,  \u001b[1;36m-100\u001b[0m,  \u001b[1;36m-100\u001b[0m,\n",
       "\u001b[2;32m│   │    \u001b[0m\u001b[1;36m-100\u001b[0m,  \u001b[1;36m-100\u001b[0m,  \u001b[1;36m-100\u001b[0m,  \u001b[1;36m-100\u001b[0m,  \u001b[1;36m-100\u001b[0m,  \u001b[1;36m-100\u001b[0m,  \u001b[1;36m-100\u001b[0m,  \u001b[1;36m-100\u001b[0m,  \u001b[1;36m-100\u001b[0m,  \u001b[1;36m-100\u001b[0m,\n",
       "\u001b[2;32m│   │    \u001b[0m\u001b[1;36m-100\u001b[0m,  \u001b[1;36m-100\u001b[0m,  \u001b[1;36m-100\u001b[0m,  \u001b[1;36m-100\u001b[0m,  \u001b[1;36m-100\u001b[0m,  \u001b[1;36m-100\u001b[0m,  \u001b[1;36m-100\u001b[0m,  \u001b[1;36m-100\u001b[0m,  \u001b[1;36m-100\u001b[0m,  \u001b[1;36m-100\u001b[0m,\n",
       "\u001b[2;32m│   │    \u001b[0m\u001b[1;36m-100\u001b[0m,  \u001b[1;36m-100\u001b[0m,  \u001b[1;36m-100\u001b[0m,  \u001b[1;36m-100\u001b[0m,  \u001b[1;36m-100\u001b[0m,  \u001b[1;36m-100\u001b[0m,  \u001b[1;36m-100\u001b[0m,  \u001b[1;36m-100\u001b[0m,  \u001b[1;36m-100\u001b[0m,  \u001b[1;36m-100\u001b[0m,\n",
       "\u001b[2;32m│   │    \u001b[0m\u001b[1;36m-100\u001b[0m,  \u001b[1;36m-100\u001b[0m,  \u001b[1;36m-100\u001b[0m,  \u001b[1;36m-100\u001b[0m,  \u001b[1;36m-100\u001b[0m,  \u001b[1;36m-100\u001b[0m,  \u001b[1;36m-100\u001b[0m,  \u001b[1;36m-100\u001b[0m,  \u001b[1;36m-100\u001b[0m,  \u001b[1;36m-100\u001b[0m,\n",
       "\u001b[2;32m│   │    \u001b[0m\u001b[1;36m-100\u001b[0m,  \u001b[1;36m-100\u001b[0m,  \u001b[1;36m-100\u001b[0m,  \u001b[1;36m-100\u001b[0m,  \u001b[1;36m-100\u001b[0m,  \u001b[1;36m-100\u001b[0m,  \u001b[1;36m-100\u001b[0m,  \u001b[1;36m-100\u001b[0m,  \u001b[1;36m-100\u001b[0m,  \u001b[1;36m-100\u001b[0m,\n",
       "\u001b[2;32m│   │    \u001b[0m\u001b[1;36m-100\u001b[0m,  \u001b[1;36m-100\u001b[0m,  \u001b[1;36m-100\u001b[0m,  \u001b[1;36m-100\u001b[0m,  \u001b[1;36m-100\u001b[0m,  \u001b[1;36m-100\u001b[0m,  \u001b[1;36m-100\u001b[0m,  \u001b[1;36m-100\u001b[0m,  \u001b[1;36m-100\u001b[0m,  \u001b[1;36m-100\u001b[0m,\n",
       "\u001b[2;32m│   │    \u001b[0m\u001b[1;36m-100\u001b[0m,  \u001b[1;36m-100\u001b[0m,  \u001b[1;36m-100\u001b[0m,  \u001b[1;36m-100\u001b[0m,  \u001b[1;36m-100\u001b[0m,  \u001b[1;36m-100\u001b[0m,  \u001b[1;36m-100\u001b[0m,  \u001b[1;36m-100\u001b[0m,  \u001b[1;36m-100\u001b[0m,  \u001b[1;36m-100\u001b[0m,\n",
       "\u001b[2;32m│   │    \u001b[0m\u001b[1;36m-100\u001b[0m,  \u001b[1;36m-100\u001b[0m,  \u001b[1;36m-100\u001b[0m,  \u001b[1;36m-100\u001b[0m,  \u001b[1;36m-100\u001b[0m,  \u001b[1;36m-100\u001b[0m,  \u001b[1;36m-100\u001b[0m,  \u001b[1;36m-100\u001b[0m,  \u001b[1;36m-100\u001b[0m,  \u001b[1;36m-100\u001b[0m,\n",
       "\u001b[2;32m│   │    \u001b[0m\u001b[1;36m-100\u001b[0m,  \u001b[1;36m-100\u001b[0m,  \u001b[1;36m-100\u001b[0m,  \u001b[1;36m-100\u001b[0m,  \u001b[1;36m-100\u001b[0m,  \u001b[1;36m-100\u001b[0m,  \u001b[1;36m-100\u001b[0m,  \u001b[1;36m-100\u001b[0m,  \u001b[1;36m-100\u001b[0m,  \u001b[1;36m-100\u001b[0m,\n",
       "\u001b[2;32m│   │    \u001b[0m\u001b[1;36m-100\u001b[0m,  \u001b[1;36m-100\u001b[0m,  \u001b[1;36m-100\u001b[0m,  \u001b[1;36m-100\u001b[0m,  \u001b[1;36m-100\u001b[0m,  \u001b[1;36m-100\u001b[0m,  \u001b[1;36m-100\u001b[0m,  \u001b[1;36m-100\u001b[0m,  \u001b[1;36m-100\u001b[0m,  \u001b[1;36m-100\u001b[0m,\n",
       "\u001b[2;32m│   │    \u001b[0m\u001b[1;36m-100\u001b[0m,  \u001b[1;36m-100\u001b[0m,  \u001b[1;36m-100\u001b[0m,  \u001b[1;36m-100\u001b[0m,  \u001b[1;36m-100\u001b[0m,  \u001b[1;36m-100\u001b[0m,  \u001b[1;36m-100\u001b[0m,  \u001b[1;36m-100\u001b[0m,  \u001b[1;36m-100\u001b[0m,  \u001b[1;36m-100\u001b[0m,\n",
       "\u001b[2;32m│   │    \u001b[0m\u001b[1;36m-100\u001b[0m,  \u001b[1;36m-100\u001b[0m,  \u001b[1;36m-100\u001b[0m,  \u001b[1;36m-100\u001b[0m,  \u001b[1;36m-100\u001b[0m,  \u001b[1;36m-100\u001b[0m,  \u001b[1;36m-100\u001b[0m,  \u001b[1;36m-100\u001b[0m,  \u001b[1;36m-100\u001b[0m,  \u001b[1;36m-100\u001b[0m,\n",
       "\u001b[2;32m│   │    \u001b[0m\u001b[1;36m-100\u001b[0m,  \u001b[1;36m-100\u001b[0m,  \u001b[1;36m-100\u001b[0m,  \u001b[1;36m-100\u001b[0m,  \u001b[1;36m-100\u001b[0m,  \u001b[1;36m-100\u001b[0m,  \u001b[1;36m-100\u001b[0m,  \u001b[1;36m-100\u001b[0m,  \u001b[1;36m-100\u001b[0m,  \u001b[1;36m-100\u001b[0m,\n",
       "\u001b[2;32m│   │    \u001b[0m\u001b[1;36m-100\u001b[0m,  \u001b[1;36m-100\u001b[0m,  \u001b[1;36m-100\u001b[0m,  \u001b[1;36m-100\u001b[0m,  \u001b[1;36m-100\u001b[0m,  \u001b[1;36m-100\u001b[0m,  \u001b[1;36m-100\u001b[0m,  \u001b[1;36m-100\u001b[0m,  \u001b[1;36m-100\u001b[0m,  \u001b[1;36m-100\u001b[0m,\n",
       "\u001b[2;32m│   │    \u001b[0m\u001b[1;36m-100\u001b[0m,  \u001b[1;36m-100\u001b[0m,  \u001b[1;36m-100\u001b[0m,  \u001b[1;36m-100\u001b[0m,  \u001b[1;36m-100\u001b[0m,  \u001b[1;36m-100\u001b[0m,  \u001b[1;36m-100\u001b[0m,  \u001b[1;36m-100\u001b[0m,  \u001b[1;36m-100\u001b[0m,  \u001b[1;36m-100\u001b[0m,\n",
       "\u001b[2;32m│   │    \u001b[0m\u001b[1;36m-100\u001b[0m,  \u001b[1;36m-100\u001b[0m,  \u001b[1;36m-100\u001b[0m,  \u001b[1;36m-100\u001b[0m,  \u001b[1;36m-100\u001b[0m,  \u001b[1;36m-100\u001b[0m,  \u001b[1;36m-100\u001b[0m,  \u001b[1;36m-100\u001b[0m,  \u001b[1;36m-100\u001b[0m,  \u001b[1;36m-100\u001b[0m,\n",
       "\u001b[2;32m│   │    \u001b[0m\u001b[1;36m-100\u001b[0m,  \u001b[1;36m-100\u001b[0m,  \u001b[1;36m-100\u001b[0m,  \u001b[1;36m-100\u001b[0m,  \u001b[1;36m-100\u001b[0m,  \u001b[1;36m-100\u001b[0m,  \u001b[1;36m-100\u001b[0m,  \u001b[1;36m-100\u001b[0m,  \u001b[1;36m-100\u001b[0m,  \u001b[1;36m-100\u001b[0m,\n",
       "\u001b[2;32m│   │    \u001b[0m\u001b[1;36m-100\u001b[0m,  \u001b[1;36m-100\u001b[0m,  \u001b[1;36m-100\u001b[0m,  \u001b[1;36m-100\u001b[0m,  \u001b[1;36m-100\u001b[0m,  \u001b[1;36m-100\u001b[0m,  \u001b[1;36m-100\u001b[0m,  \u001b[1;36m-100\u001b[0m,  \u001b[1;36m-100\u001b[0m,  \u001b[1;36m-100\u001b[0m,\n",
       "\u001b[2;32m│   │    \u001b[0m\u001b[1;36m-100\u001b[0m,  \u001b[1;36m-100\u001b[0m,  \u001b[1;36m-100\u001b[0m,  \u001b[1;36m-100\u001b[0m,  \u001b[1;36m-100\u001b[0m,  \u001b[1;36m-100\u001b[0m,  \u001b[1;36m-100\u001b[0m,  \u001b[1;36m-100\u001b[0m,  \u001b[1;36m-100\u001b[0m,  \u001b[1;36m-100\u001b[0m,\n",
       "\u001b[2;32m│   │    \u001b[0m\u001b[1;36m-100\u001b[0m,  \u001b[1;36m-100\u001b[0m,  \u001b[1;36m-100\u001b[0m,  \u001b[1;36m-100\u001b[0m,  \u001b[1;36m-100\u001b[0m,  \u001b[1;36m-100\u001b[0m,  \u001b[1;36m-100\u001b[0m,  \u001b[1;36m-100\u001b[0m,  \u001b[1;36m-100\u001b[0m,  \u001b[1;36m-100\u001b[0m,\n",
       "\u001b[2;32m│   │    \u001b[0m\u001b[1;36m-100\u001b[0m,  \u001b[1;36m-100\u001b[0m,  \u001b[1;36m-100\u001b[0m,  \u001b[1;36m-100\u001b[0m,  \u001b[1;36m-100\u001b[0m,  \u001b[1;36m-100\u001b[0m,  \u001b[1;36m-100\u001b[0m,  \u001b[1;36m-100\u001b[0m,  \u001b[1;36m-100\u001b[0m,  \u001b[1;36m-100\u001b[0m,\n",
       "\u001b[2;32m│   │    \u001b[0m\u001b[1;36m-100\u001b[0m,  \u001b[1;36m-100\u001b[0m,  \u001b[1;36m-100\u001b[0m,  \u001b[1;36m-100\u001b[0m,  \u001b[1;36m-100\u001b[0m,  \u001b[1;36m-100\u001b[0m,  \u001b[1;36m-100\u001b[0m,  \u001b[1;36m-100\u001b[0m,  \u001b[1;36m-100\u001b[0m,  \u001b[1;36m-100\u001b[0m,\n",
       "\u001b[2;32m│   │    \u001b[0m\u001b[1;36m-100\u001b[0m,  \u001b[1;36m-100\u001b[0m,  \u001b[1;36m-100\u001b[0m,  \u001b[1;36m-100\u001b[0m,  \u001b[1;36m-100\u001b[0m,  \u001b[1;36m-100\u001b[0m,  \u001b[1;36m-100\u001b[0m,  \u001b[1;36m-100\u001b[0m,  \u001b[1;36m-100\u001b[0m,  \u001b[1;36m-100\u001b[0m,\n",
       "\u001b[2;32m│   │    \u001b[0m\u001b[1;36m-100\u001b[0m,  \u001b[1;36m-100\u001b[0m,  \u001b[1;36m-100\u001b[0m,  \u001b[1;36m-100\u001b[0m,  \u001b[1;36m-100\u001b[0m,  \u001b[1;36m-100\u001b[0m,  \u001b[1;36m-100\u001b[0m,  \u001b[1;36m-100\u001b[0m,  \u001b[1;36m-100\u001b[0m,  \u001b[1;36m-100\u001b[0m,\n",
       "\u001b[2;32m│   │    \u001b[0m\u001b[1;36m-100\u001b[0m,  \u001b[1;36m-100\u001b[0m,  \u001b[1;36m-100\u001b[0m,  \u001b[1;36m-100\u001b[0m,  \u001b[1;36m-100\u001b[0m,  \u001b[1;36m-100\u001b[0m,  \u001b[1;36m-100\u001b[0m,  \u001b[1;36m-100\u001b[0m,  \u001b[1;36m-100\u001b[0m,  \u001b[1;36m-100\u001b[0m,\n",
       "\u001b[2;32m│   │    \u001b[0m\u001b[1;36m-100\u001b[0m,  \u001b[1;36m-100\u001b[0m,  \u001b[1;36m-100\u001b[0m,  \u001b[1;36m-100\u001b[0m,  \u001b[1;36m-100\u001b[0m,  \u001b[1;36m-100\u001b[0m,  \u001b[1;36m-100\u001b[0m,  \u001b[1;36m7507\u001b[0m,  \u001b[1;36m6580\u001b[0m,  \u001b[1;36m5885\u001b[0m,\n",
       "\u001b[2;32m│   │      \u001b[0m\u001b[1;36m62\u001b[0m,   \u001b[1;36m304\u001b[0m,    \u001b[1;36m11\u001b[0m,  \u001b[1;36m1208\u001b[0m,    \u001b[1;36m11\u001b[0m, \u001b[1;36m20861\u001b[0m,     \u001b[1;36m7\u001b[0m, \u001b[1;36m19723\u001b[0m,     \u001b[1;36m8\u001b[0m,   \u001b[1;36m372\u001b[0m,\n",
       "\u001b[2;32m│   │    \u001b[0m\u001b[1;36m3212\u001b[0m,    \u001b[1;36m62\u001b[0m, \u001b[1;36m19723\u001b[0m,  \u001b[1;36m7432\u001b[0m, \u001b[1;36m29372\u001b[0m,    \u001b[1;36m62\u001b[0m,    \u001b[1;36m82\u001b[0m,  \u001b[1;36m2892\u001b[0m, \u001b[1;36m13721\u001b[0m,  \u001b[1;36m6580\u001b[0m,\n",
       "\u001b[2;32m│   │    \u001b[0m\u001b[1;36m5885\u001b[0m,  \u001b[1;36m6511\u001b[0m, \u001b[1;36m29372\u001b[0m,    \u001b[1;36m62\u001b[0m,    \u001b[1;36m82\u001b[0m,  \u001b[1;36m2892\u001b[0m,    \u001b[1;36m13\u001b[0m,    \u001b[1;36m82\u001b[0m,  \u001b[1;36m2892\u001b[0m,  \u001b[1;36m5885\u001b[0m,\n",
       "\u001b[2;32m│   │      \u001b[0m\u001b[1;36m62\u001b[0m,   \u001b[1;36m304\u001b[0m,   \u001b[1;36m405\u001b[0m,  \u001b[1;36m6580\u001b[0m,  \u001b[1;36m5885\u001b[0m,    \u001b[1;36m13\u001b[0m,    \u001b[1;36m82\u001b[0m,  \u001b[1;36m2892\u001b[0m,  \u001b[1;36m5885\u001b[0m,    \u001b[1;36m62\u001b[0m,\n",
       "\u001b[2;32m│   │     \u001b[0m\u001b[1;36m304\u001b[0m, \u001b[1;36m29561\u001b[0m,  \u001b[1;36m9784\u001b[0m,  \u001b[1;36m6580\u001b[0m,  \u001b[1;36m5885\u001b[0m,    \u001b[1;36m62\u001b[0m,   \u001b[1;36m304\u001b[0m,    \u001b[1;36m11\u001b[0m,  \u001b[1;36m1208\u001b[0m, \u001b[1;36m25554\u001b[0m,\n",
       "\u001b[2;32m│   │    \u001b[0m\u001b[1;36m9784\u001b[0m,  \u001b[1;36m3212\u001b[0m,    \u001b[1;36m62\u001b[0m, \u001b[1;36m19723\u001b[0m, \u001b[1;36m22187\u001b[0m,    \u001b[1;36m34\u001b[0m,    \u001b[1;36m26\u001b[0m, \u001b[1;36m32021\u001b[0m\u001b[1m]\u001b[0m\u001b[1m)\u001b[0m,\n",
       "\u001b[2;32m│   \u001b[0m\u001b[32m'raw'\u001b[0m: \u001b[1m{\u001b[0m\n",
       "\u001b[2;32m│   │   \u001b[0m\u001b[32m'id'\u001b[0m: \u001b[1;36m5097\u001b[0m,\n",
       "\u001b[2;32m│   │   \u001b[0m\u001b[32m'question'\u001b[0m: \u001b[32m'What is the total volume of timber sold by each salesperson, sorted by salesperson?'\u001b[0m,\n",
       "\u001b[2;32m│   │   \u001b[0m\u001b[32m'schema'\u001b[0m: \u001b[32m\"CREATE TABLE salesperson \u001b[0m\u001b[32m(\u001b[0m\u001b[32msalesperson_id INT, name TEXT, region TEXT\u001b[0m\u001b[32m)\u001b[0m\u001b[32m; INSERT INTO salesperson \u001b[0m\u001b[32m(\u001b[0m\u001b[32msalesperson_id, name, region\u001b[0m\u001b[32m)\u001b[0m\u001b[32m VALUES \u001b[0m\u001b[32m(\u001b[0m\u001b[32m1, 'John Doe', 'North'\u001b[0m\u001b[32m)\u001b[0m\u001b[32m, \u001b[0m\u001b[32m(\u001b[0m\u001b[32m2, 'Jane Smith', 'South'\u001b[0m\u001b[32m)\u001b[0m\u001b[32m; CREATE TABLE timber_sales \u001b[0m\u001b[32m(\u001b[0m\u001b[32msales_id INT, salesperson_id INT, volume REAL, sale_date DATE\u001b[0m\u001b[32m)\u001b[0m\u001b[32m; INSERT INTO timber_sales \u001b[0m\u001b[32m(\u001b[0m\u001b[32msales_id, salesperson_id, volume, sale_date\u001b[0m\u001b[32m)\u001b[0m\u001b[32m VALUES \u001b[0m\u001b[32m(\u001b[0m\u001b[32m1, 1, 120, '2021-01-01'\u001b[0m\u001b[32m)\u001b[0m\u001b[32m, \u001b[0m\u001b[32m(\u001b[0m\u001b[32m2, 1, 150, '2021-02-01'\u001b[0m\u001b[32m)\u001b[0m\u001b[32m, \u001b[0m\u001b[32m(\u001b[0m\u001b[32m3, 2, 180, '2021-01-01'\u001b[0m\u001b[32m)\u001b[0m\u001b[32m;\"\u001b[0m,\n",
       "\u001b[2;32m│   │   \u001b[0m\u001b[32m'SQL'\u001b[0m: \u001b[32m'SELECT salesperson_id, name, SUM\u001b[0m\u001b[32m(\u001b[0m\u001b[32mvolume\u001b[0m\u001b[32m)\u001b[0m\u001b[32m as total_volume FROM timber_sales JOIN salesperson ON timber_sales.salesperson_id = salesperson.salesperson_id GROUP BY salesperson_id, name ORDER BY total_volume DESC;'\u001b[0m,\n",
       "\u001b[2;32m│   │   \u001b[0m\u001b[32m'context'\u001b[0m: \u001b[32m\"CREATE TABLE salesperson \u001b[0m\u001b[32m(\u001b[0m\u001b[32msalesperson_id INT, name TEXT, region TEXT\u001b[0m\u001b[32m)\u001b[0m\u001b[32m; INSERT INTO salesperson \u001b[0m\u001b[32m(\u001b[0m\u001b[32msalesperson_id, name, region\u001b[0m\u001b[32m)\u001b[0m\u001b[32m VALUES \u001b[0m\u001b[32m(\u001b[0m\u001b[32m1, 'John Doe', 'North'\u001b[0m\u001b[32m)\u001b[0m\u001b[32m, \u001b[0m\u001b[32m(\u001b[0m\u001b[32m2, 'Jane Smith', 'South'\u001b[0m\u001b[32m)\u001b[0m\u001b[32m; CREATE TABLE timber_sales \u001b[0m\u001b[32m(\u001b[0m\u001b[32msales_id INT, salesperson_id INT, volume REAL, sale_date DATE\u001b[0m\u001b[32m)\u001b[0m\u001b[32m; INSERT INTO timber_sales \u001b[0m\u001b[32m(\u001b[0m\u001b[32msales_id, salesperson_id, volume, sale_date\u001b[0m\u001b[32m)\u001b[0m\u001b[32m VALUES \u001b[0m\u001b[32m(\u001b[0m\u001b[32m1, 1, 120, '2021-01-01'\u001b[0m\u001b[32m)\u001b[0m\u001b[32m, \u001b[0m\u001b[32m(\u001b[0m\u001b[32m2, 1, 150, '2021-02-01'\u001b[0m\u001b[32m)\u001b[0m\u001b[32m, \u001b[0m\u001b[32m(\u001b[0m\u001b[32m3, 2, 180, '2021-01-01'\u001b[0m\u001b[32m)\u001b[0m\u001b[32m;\"\u001b[0m,\n",
       "\u001b[2;32m│   │   \u001b[0m\u001b[32m'task_type'\u001b[0m: \u001b[32m'analytics and reporting'\u001b[0m,\n",
       "\u001b[2;32m│   │   \u001b[0m\u001b[32m'complexity'\u001b[0m: \u001b[32m'single join'\u001b[0m,\n",
       "\u001b[2;32m│   │   \u001b[0m\u001b[32m'db_id'\u001b[0m: \u001b[32m'forestry'\u001b[0m,\n",
       "\u001b[2;32m│   │   \u001b[0m\u001b[32m'db_path'\u001b[0m: \u001b[3;35mNone\u001b[0m,\n",
       "\u001b[2;32m│   │   \u001b[0m\u001b[32m'prompt'\u001b[0m: \u001b[32m\"\u001b[0m\u001b[32m<\u001b[0m\u001b[32m｜begin▁of▁sentence｜\u001b[0m\u001b[32m>\u001b[0m\u001b[32mYou are an AI programming assistant, utilizing the Deepseek Coder model, developed by Deepseek Company, and you only answer questions related to computer science. For politically sensitive questions, security and privacy issues, and other non-computer science questions, you will refuse to answer\\n### Instruction:\\n\\n# Follow these instruction:\\nYou will be given schemas of tables of a database. Your job is to write correct\\nerror free SQL query based on the question asked. Please make sure:\\n\\n1. Do not add ``` at start / end of the query. It should be a single line query in a  single line \u001b[0m\u001b[32m(\u001b[0m\u001b[32mstring format\u001b[0m\u001b[32m)\u001b[0m\u001b[32m\\n2. Make sure the column names are correct and exists in the table\\n3. For column names which has a space with it, make sure you have put `` in that column name\\n4. Think step by step and always check schema and question and the column names before writing the\\nquery. \\n\\n# Database and Table Schema:\\nCREATE TABLE salesperson \u001b[0m\u001b[32m(\u001b[0m\u001b[32msalesperson_id INT, name TEXT, region TEXT\u001b[0m\u001b[32m)\u001b[0m\u001b[32m; INSERT INTO salesperson \u001b[0m\u001b[32m(\u001b[0m\u001b[32msalesperson_id, name, region\u001b[0m\u001b[32m)\u001b[0m\u001b[32m VALUES \u001b[0m\u001b[32m(\u001b[0m\u001b[32m1, 'John Doe', 'North'\u001b[0m\u001b[32m)\u001b[0m\u001b[32m, \u001b[0m\u001b[32m(\u001b[0m\u001b[32m2, 'Jane Smith', 'South'\u001b[0m\u001b[32m)\u001b[0m\u001b[32m; CREATE TABLE timber_sales \u001b[0m\u001b[32m(\u001b[0m\u001b[32msales_id INT, salesperson_id INT, volume REAL, sale_date DATE\u001b[0m\u001b[32m)\u001b[0m\u001b[32m; INSERT INTO timber_sales \u001b[0m\u001b[32m(\u001b[0m\u001b[32msales_id, salesperson_id, volume, sale_date\u001b[0m\u001b[32m)\u001b[0m\u001b[32m VALUES \u001b[0m\u001b[32m(\u001b[0m\u001b[32m1, 1, 120, '2021-01-01'\u001b[0m\u001b[32m)\u001b[0m\u001b[32m, \u001b[0m\u001b[32m(\u001b[0m\u001b[32m2, 1, 150, '2021-02-01'\u001b[0m\u001b[32m)\u001b[0m\u001b[32m, \u001b[0m\u001b[32m(\u001b[0m\u001b[32m3, 2, 180, '2021-01-01'\u001b[0m\u001b[32m)\u001b[0m\u001b[32m;\\n\\n\\n\\n# Here are some Examples on how to generate SQL statements and use column names:\\n\\nQuestion: What is the total volume of timber sold by each salesperson, sorted by salesperson?\\nSQL: SELECT salesperson_id, name, SUM\u001b[0m\u001b[32m(\u001b[0m\u001b[32mvolume\u001b[0m\u001b[32m)\u001b[0m\u001b[32m as total_volume FROM timber_sales JOIN salesperson ON timber_sales.salesperson_id = salesperson.salesperson_id GROUP BY salesperson_id, name ORDER BY total_volume DESC;\\n\\n\\n# Question: What is the total volume of timber sold by each salesperson, sorted by salesperson?\\n\\n# SQL: \\n\\n\"\u001b[0m\n",
       "\u001b[2;32m│   \u001b[0m\u001b[1m}\u001b[0m\n",
       "\u001b[1m}\u001b[0m"
      ]
     },
     "execution_count": 7,
     "metadata": {},
     "output_type": "execute_result"
    }
   ],
   "source": [
    "# Loading Gretel AI Dataset\n",
    "\n",
    "gretel_dataset = Text2SQLDataset(\n",
    "    dataset_name=\"gretel\",\n",
    "    split=\"train\",\n",
    "    dataset_folder=\"../data\",\n",
    ").setup_dataset(\n",
    "    num_fewshot=3,\n",
    "    num_rows=3,\n",
    "    model_name_or_path=\"premai-io/prem-1B-SQL\",\n",
    ")\n",
    "\n",
    "gretel_dataset[0]"
   ]
  },
  {
   "cell_type": "code",
   "execution_count": 10,
   "metadata": {},
   "outputs": [
    {
     "data": {
      "text/html": [
       "<pre style=\"white-space:pre;overflow-x:auto;line-height:normal;font-family:Menlo,'DejaVu Sans Mono',consolas,'Courier New',monospace\"></pre>\n"
      ],
      "text/plain": []
     },
     "metadata": {},
     "output_type": "display_data"
    },
    {
     "data": {
      "text/plain": [
       "\n",
       "\u001b[1m{\u001b[0m\n",
       "\u001b[2;32m│   \u001b[0m\u001b[32m'id'\u001b[0m: \u001b[1;36m5097\u001b[0m,\n",
       "\u001b[2;32m│   \u001b[0m\u001b[32m'question'\u001b[0m: \u001b[32m'What is the total volume of timber sold by each salesperson, sorted by salesperson?'\u001b[0m,\n",
       "\u001b[2;32m│   \u001b[0m\u001b[32m'schema'\u001b[0m: \u001b[32m\"CREATE TABLE salesperson \u001b[0m\u001b[32m(\u001b[0m\u001b[32msalesperson_id INT, name TEXT, region TEXT\u001b[0m\u001b[32m)\u001b[0m\u001b[32m; INSERT INTO salesperson \u001b[0m\u001b[32m(\u001b[0m\u001b[32msalesperson_id, name, region\u001b[0m\u001b[32m)\u001b[0m\u001b[32m VALUES \u001b[0m\u001b[32m(\u001b[0m\u001b[32m1, 'John Doe', 'North'\u001b[0m\u001b[32m)\u001b[0m\u001b[32m, \u001b[0m\u001b[32m(\u001b[0m\u001b[32m2, 'Jane Smith', 'South'\u001b[0m\u001b[32m)\u001b[0m\u001b[32m; CREATE TABLE timber_sales \u001b[0m\u001b[32m(\u001b[0m\u001b[32msales_id INT, salesperson_id INT, volume REAL, sale_date DATE\u001b[0m\u001b[32m)\u001b[0m\u001b[32m; INSERT INTO timber_sales \u001b[0m\u001b[32m(\u001b[0m\u001b[32msales_id, salesperson_id, volume, sale_date\u001b[0m\u001b[32m)\u001b[0m\u001b[32m VALUES \u001b[0m\u001b[32m(\u001b[0m\u001b[32m1, 1, 120, '2021-01-01'\u001b[0m\u001b[32m)\u001b[0m\u001b[32m, \u001b[0m\u001b[32m(\u001b[0m\u001b[32m2, 1, 150, '2021-02-01'\u001b[0m\u001b[32m)\u001b[0m\u001b[32m, \u001b[0m\u001b[32m(\u001b[0m\u001b[32m3, 2, 180, '2021-01-01'\u001b[0m\u001b[32m)\u001b[0m\u001b[32m;\"\u001b[0m,\n",
       "\u001b[2;32m│   \u001b[0m\u001b[32m'SQL'\u001b[0m: \u001b[32m'SELECT salesperson_id, name, SUM\u001b[0m\u001b[32m(\u001b[0m\u001b[32mvolume\u001b[0m\u001b[32m)\u001b[0m\u001b[32m as total_volume FROM timber_sales JOIN salesperson ON timber_sales.salesperson_id = salesperson.salesperson_id GROUP BY salesperson_id, name ORDER BY total_volume DESC;'\u001b[0m,\n",
       "\u001b[2;32m│   \u001b[0m\u001b[32m'context'\u001b[0m: \u001b[32m\"CREATE TABLE salesperson \u001b[0m\u001b[32m(\u001b[0m\u001b[32msalesperson_id INT, name TEXT, region TEXT\u001b[0m\u001b[32m)\u001b[0m\u001b[32m; INSERT INTO salesperson \u001b[0m\u001b[32m(\u001b[0m\u001b[32msalesperson_id, name, region\u001b[0m\u001b[32m)\u001b[0m\u001b[32m VALUES \u001b[0m\u001b[32m(\u001b[0m\u001b[32m1, 'John Doe', 'North'\u001b[0m\u001b[32m)\u001b[0m\u001b[32m, \u001b[0m\u001b[32m(\u001b[0m\u001b[32m2, 'Jane Smith', 'South'\u001b[0m\u001b[32m)\u001b[0m\u001b[32m; CREATE TABLE timber_sales \u001b[0m\u001b[32m(\u001b[0m\u001b[32msales_id INT, salesperson_id INT, volume REAL, sale_date DATE\u001b[0m\u001b[32m)\u001b[0m\u001b[32m; INSERT INTO timber_sales \u001b[0m\u001b[32m(\u001b[0m\u001b[32msales_id, salesperson_id, volume, sale_date\u001b[0m\u001b[32m)\u001b[0m\u001b[32m VALUES \u001b[0m\u001b[32m(\u001b[0m\u001b[32m1, 1, 120, '2021-01-01'\u001b[0m\u001b[32m)\u001b[0m\u001b[32m, \u001b[0m\u001b[32m(\u001b[0m\u001b[32m2, 1, 150, '2021-02-01'\u001b[0m\u001b[32m)\u001b[0m\u001b[32m, \u001b[0m\u001b[32m(\u001b[0m\u001b[32m3, 2, 180, '2021-01-01'\u001b[0m\u001b[32m)\u001b[0m\u001b[32m;\"\u001b[0m,\n",
       "\u001b[2;32m│   \u001b[0m\u001b[32m'task_type'\u001b[0m: \u001b[32m'analytics and reporting'\u001b[0m,\n",
       "\u001b[2;32m│   \u001b[0m\u001b[32m'complexity'\u001b[0m: \u001b[32m'single join'\u001b[0m,\n",
       "\u001b[2;32m│   \u001b[0m\u001b[32m'db_id'\u001b[0m: \u001b[32m'forestry'\u001b[0m,\n",
       "\u001b[2;32m│   \u001b[0m\u001b[32m'db_path'\u001b[0m: \u001b[3;35mNone\u001b[0m,\n",
       "\u001b[2;32m│   \u001b[0m\u001b[32m'prompt'\u001b[0m: \u001b[32m\"\u001b[0m\u001b[32m<\u001b[0m\u001b[32m｜begin▁of▁sentence｜\u001b[0m\u001b[32m>\u001b[0m\u001b[32mYou are an AI programming assistant, utilizing the Deepseek Coder model, developed by Deepseek Company, and you only answer questions related to computer science. For politically sensitive questions, security and privacy issues, and other non-computer science questions, you will refuse to answer\\n### Instruction:\\n\\n# Follow these instruction:\\nYou will be given schemas of tables of a database. Your job is to write correct\\nerror free SQL query based on the question asked. Please make sure:\\n\\n1. Do not add ``` at start / end of the query. It should be a single line query in a  single line \u001b[0m\u001b[32m(\u001b[0m\u001b[32mstring format\u001b[0m\u001b[32m)\u001b[0m\u001b[32m\\n2. Make sure the column names are correct and exists in the table\\n3. For column names which has a space with it, make sure you have put `` in that column name\\n4. Think step by step and always check schema and question and the column names before writing the\\nquery. \\n\\n# Database and Table Schema:\\nCREATE TABLE salesperson \u001b[0m\u001b[32m(\u001b[0m\u001b[32msalesperson_id INT, name TEXT, region TEXT\u001b[0m\u001b[32m)\u001b[0m\u001b[32m; INSERT INTO salesperson \u001b[0m\u001b[32m(\u001b[0m\u001b[32msalesperson_id, name, region\u001b[0m\u001b[32m)\u001b[0m\u001b[32m VALUES \u001b[0m\u001b[32m(\u001b[0m\u001b[32m1, 'John Doe', 'North'\u001b[0m\u001b[32m)\u001b[0m\u001b[32m, \u001b[0m\u001b[32m(\u001b[0m\u001b[32m2, 'Jane Smith', 'South'\u001b[0m\u001b[32m)\u001b[0m\u001b[32m; CREATE TABLE timber_sales \u001b[0m\u001b[32m(\u001b[0m\u001b[32msales_id INT, salesperson_id INT, volume REAL, sale_date DATE\u001b[0m\u001b[32m)\u001b[0m\u001b[32m; INSERT INTO timber_sales \u001b[0m\u001b[32m(\u001b[0m\u001b[32msales_id, salesperson_id, volume, sale_date\u001b[0m\u001b[32m)\u001b[0m\u001b[32m VALUES \u001b[0m\u001b[32m(\u001b[0m\u001b[32m1, 1, 120, '2021-01-01'\u001b[0m\u001b[32m)\u001b[0m\u001b[32m, \u001b[0m\u001b[32m(\u001b[0m\u001b[32m2, 1, 150, '2021-02-01'\u001b[0m\u001b[32m)\u001b[0m\u001b[32m, \u001b[0m\u001b[32m(\u001b[0m\u001b[32m3, 2, 180, '2021-01-01'\u001b[0m\u001b[32m)\u001b[0m\u001b[32m;\\n\\n\\n\\n# Here are some Examples on how to generate SQL statements and use column names:\\n\\nQuestion: What is the total volume of timber sold by each salesperson, sorted by salesperson?\\nSQL: SELECT salesperson_id, name, SUM\u001b[0m\u001b[32m(\u001b[0m\u001b[32mvolume\u001b[0m\u001b[32m)\u001b[0m\u001b[32m as total_volume FROM timber_sales JOIN salesperson ON timber_sales.salesperson_id = salesperson.salesperson_id GROUP BY salesperson_id, name ORDER BY total_volume DESC;\\n\\n\\n# Question: What is the total volume of timber sold by each salesperson, sorted by salesperson?\\n\\n# SQL: \\n\\n\"\u001b[0m\n",
       "\u001b[1m}\u001b[0m"
      ]
     },
     "execution_count": 10,
     "metadata": {},
     "output_type": "execute_result"
    }
   ],
   "source": [
    "gretel_dataset[0][\"raw\"]"
   ]
  },
  {
   "cell_type": "code",
   "execution_count": 11,
   "metadata": {},
   "outputs": [
    {
     "data": {
      "text/html": [
       "<pre style=\"white-space:pre;overflow-x:auto;line-height:normal;font-family:Menlo,'DejaVu Sans Mono',consolas,'Courier New',monospace\">Length of bird dataset: <span style=\"color: #008080; text-decoration-color: #008080; font-weight: bold\">3</span>\n",
       "</pre>\n"
      ],
      "text/plain": [
       "Length of bird dataset: \u001b[1;36m3\u001b[0m\n"
      ]
     },
     "metadata": {},
     "output_type": "display_data"
    },
    {
     "data": {
      "text/html": [
       "<pre style=\"white-space:pre;overflow-x:auto;line-height:normal;font-family:Menlo,'DejaVu Sans Mono',consolas,'Courier New',monospace\">Length of spider dataset: <span style=\"color: #008080; text-decoration-color: #008080; font-weight: bold\">3</span>\n",
       "</pre>\n"
      ],
      "text/plain": [
       "Length of spider dataset: \u001b[1;36m3\u001b[0m\n"
      ]
     },
     "metadata": {},
     "output_type": "display_data"
    },
    {
     "data": {
      "text/html": [
       "<pre style=\"white-space:pre;overflow-x:auto;line-height:normal;font-family:Menlo,'DejaVu Sans Mono',consolas,'Courier New',monospace\">Length of domains dataset: <span style=\"color: #008080; text-decoration-color: #008080; font-weight: bold\">3</span>\n",
       "</pre>\n"
      ],
      "text/plain": [
       "Length of domains dataset: \u001b[1;36m3\u001b[0m\n"
      ]
     },
     "metadata": {},
     "output_type": "display_data"
    },
    {
     "data": {
      "text/html": [
       "<pre style=\"white-space:pre;overflow-x:auto;line-height:normal;font-family:Menlo,'DejaVu Sans Mono',consolas,'Courier New',monospace\">Length of gretel dataset: <span style=\"color: #008080; text-decoration-color: #008080; font-weight: bold\">3</span>\n",
       "</pre>\n"
      ],
      "text/plain": [
       "Length of gretel dataset: \u001b[1;36m3\u001b[0m\n"
      ]
     },
     "metadata": {},
     "output_type": "display_data"
    },
    {
     "data": {
      "text/html": [
       "<pre style=\"white-space:pre;overflow-x:auto;line-height:normal;font-family:Menlo,'DejaVu Sans Mono',consolas,'Courier New',monospace\">Length of merged dataset: <span style=\"color: #008080; text-decoration-color: #008080; font-weight: bold\">12</span>\n",
       "</pre>\n"
      ],
      "text/plain": [
       "Length of merged dataset: \u001b[1;36m12\u001b[0m\n"
      ]
     },
     "metadata": {},
     "output_type": "display_data"
    }
   ],
   "source": [
    "# Merge all the datasets\n",
    "\n",
    "print(f\"Length of bird dataset: {len(bird_dataset)}\")\n",
    "print(f\"Length of spider dataset: {len(spider_dataset)}\")\n",
    "print(f\"Length of domains dataset: {len(domains)}\")\n",
    "print(f\"Length of gretel dataset: {len(gretel_dataset)}\")\n",
    "\n",
    "merged_dataset = [*bird_dataset, *spider_dataset, *domains, *gretel_dataset]\n",
    "print(f\"Length of merged dataset: {len(merged_dataset)}\")"
   ]
  },
  {
   "cell_type": "code",
   "execution_count": 12,
   "metadata": {},
   "outputs": [
    {
     "data": {
      "text/html": [
       "<pre style=\"white-space:pre;overflow-x:auto;line-height:normal;font-family:Menlo,'DejaVu Sans Mono',consolas,'Courier New',monospace\"></pre>\n"
      ],
      "text/plain": []
     },
     "metadata": {},
     "output_type": "display_data"
    },
    {
     "data": {
      "text/plain": [
       "\n",
       "\u001b[1m{\u001b[0m\n",
       "\u001b[2;32m│   \u001b[0m\u001b[32m'input_ids'\u001b[0m: \u001b[1;35mtensor\u001b[0m\u001b[1m(\u001b[0m\u001b[1m[\u001b[0m\u001b[1;36m32013\u001b[0m, \u001b[1;36m32013\u001b[0m,  \u001b[1;36m2042\u001b[0m,  \u001b[33m...\u001b[0m,   \u001b[1;36m207\u001b[0m,    \u001b[1;36m16\u001b[0m, \u001b[1;36m32021\u001b[0m\u001b[1m]\u001b[0m\u001b[1m)\u001b[0m,\n",
       "\u001b[2;32m│   \u001b[0m\u001b[32m'labels'\u001b[0m: \u001b[1;35mtensor\u001b[0m\u001b[1m(\u001b[0m\u001b[1m[\u001b[0m \u001b[1;36m-100\u001b[0m,  \u001b[1;36m-100\u001b[0m,  \u001b[1;36m-100\u001b[0m,  \u001b[33m...\u001b[0m,   \u001b[1;36m207\u001b[0m,    \u001b[1;36m16\u001b[0m, \u001b[1;36m32021\u001b[0m\u001b[1m]\u001b[0m\u001b[1m)\u001b[0m,\n",
       "\u001b[2;32m│   \u001b[0m\u001b[32m'raw'\u001b[0m: \u001b[1m{\u001b[0m\n",
       "\u001b[2;32m│   │   \u001b[0m\u001b[32m'db_id'\u001b[0m: \u001b[32m'movie_platform'\u001b[0m,\n",
       "\u001b[2;32m│   │   \u001b[0m\u001b[32m'question'\u001b[0m: \u001b[32m'Name movie titles released in year 1945. Sort the listing by the descending order of movie popularity.'\u001b[0m,\n",
       "\u001b[2;32m│   │   \u001b[0m\u001b[32m'evidence'\u001b[0m: \u001b[32m'released in the year 1945 refers to movie_release_year = 1945;'\u001b[0m,\n",
       "\u001b[2;32m│   │   \u001b[0m\u001b[32m'SQL'\u001b[0m: \u001b[32m'SELECT movie_title FROM movies WHERE movie_release_year = 1945 ORDER BY movie_popularity DESC LIMIT 1'\u001b[0m,\n",
       "\u001b[2;32m│   │   \u001b[0m\u001b[32m'db_path'\u001b[0m: \u001b[32m'../data/bird/train/train_databases/movie_platform/movie_platform.sqlite'\u001b[0m,\n",
       "\u001b[2;32m│   │   \u001b[0m\u001b[32m'prompt'\u001b[0m: \u001b[32m'\u001b[0m\u001b[32m<\u001b[0m\u001b[32m｜begin▁of▁sentence｜\u001b[0m\u001b[32m>\u001b[0m\u001b[32mYou are an AI programming assistant, utilizing the Deepseek Coder model, developed by Deepseek Company, and you only answer questions related to computer science. For politically sensitive questions, security and privacy issues, and other non-computer science questions, you will refuse to answer\\n### Instruction:\\n\\n# Follow these instruction:\\nYou will be given schemas of tables of a database. Your job is to write correct\\nerror free SQL query based on the question asked. Please make sure:\\n\\n1. Do not add ``` at start / end of the query. It should be a single line query in a  single line \u001b[0m\u001b[32m(\u001b[0m\u001b[32mstring format\u001b[0m\u001b[32m)\u001b[0m\u001b[32m\\n2. Make sure the column names are correct and exists in the table\\n3. For column names which has a space with it, make sure you have put `` in that column name\\n4. Think step by step and always check schema and question and the column names before writing the\\nquery. \\n\\n# Database and Table Schema:\\nCREATE TABLE \"lists\"\\n\u001b[0m\u001b[32m(\u001b[0m\u001b[32m\\n    user_id                     INTEGER\\n        references lists_users \u001b[0m\u001b[32m(\u001b[0m\u001b[32muser_id\u001b[0m\u001b[32m)\u001b[0m\u001b[32m,\\n    list_id                     INTEGER not null\\n        primary key,\\n    list_title                  TEXT,\\n    list_movie_number           INTEGER,\\n    list_update_timestamp_utc   TEXT,\\n    list_creation_timestamp_utc TEXT,\\n    list_followers              INTEGER,\\n    list_url                    TEXT,\\n    list_comments               INTEGER,\\n    list_description            TEXT,\\n    list_cover_image_url        TEXT,\\n    list_first_image_url        TEXT,\\n    list_second_image_url       TEXT,\\n    list_third_image_url        TEXT\\n\u001b[0m\u001b[32m)\u001b[0m\u001b[32m\\nCREATE TABLE \"movies\"\\n\u001b[0m\u001b[32m(\u001b[0m\u001b[32m\\n    movie_id             INTEGER not null\\n        primary key,\\n    movie_title          TEXT,\\n    movie_release_year   INTEGER,\\n    movie_url            TEXT,\\n    movie_title_language TEXT,\\n    movie_popularity     INTEGER,\\n    movie_image_url      TEXT,\\n    director_id          TEXT,\\n    director_name        TEXT,\\n    director_url         TEXT\\n\u001b[0m\u001b[32m)\u001b[0m\u001b[32m\\nCREATE TABLE \"ratings_users\"\\n\u001b[0m\u001b[32m(\u001b[0m\u001b[32m\\n    user_id                 INTEGER\\n        references lists_users \u001b[0m\u001b[32m(\u001b[0m\u001b[32muser_id\u001b[0m\u001b[32m)\u001b[0m\u001b[32m,\\n    rating_date_utc         TEXT,\\n    user_trialist           INTEGER,\\n    user_subscriber         INTEGER,\\n    user_avatar_image_url   TEXT,\\n    user_cover_image_url    TEXT,\\n    user_eligible_for_trial INTEGER,\\n    user_has_payment_method INTEGER\\n\u001b[0m\u001b[32m)\u001b[0m\u001b[32m\\nCREATE TABLE lists_users\\n\u001b[0m\u001b[32m(\u001b[0m\u001b[32m\\n    user_id                 INTEGER not null ,\\n    list_id                 INTEGER not null ,\\n    list_update_date_utc    TEXT,\\n    list_creation_date_utc  TEXT,\\n    user_trialist           INTEGER,\\n    user_subscriber         INTEGER,\\n    user_avatar_image_url   TEXT,\\n    user_cover_image_url    TEXT,\\n    user_eligible_for_trial TEXT,\\n    user_has_payment_method TEXT,\\n    primary key \u001b[0m\u001b[32m(\u001b[0m\u001b[32muser_id, list_id\u001b[0m\u001b[32m)\u001b[0m\u001b[32m,\\n    foreign key \u001b[0m\u001b[32m(\u001b[0m\u001b[32mlist_id\u001b[0m\u001b[32m)\u001b[0m\u001b[32m references lists\u001b[0m\u001b[32m(\u001b[0m\u001b[32mlist_id\u001b[0m\u001b[32m)\u001b[0m\u001b[32m,\\n    foreign key \u001b[0m\u001b[32m(\u001b[0m\u001b[32muser_id\u001b[0m\u001b[32m)\u001b[0m\u001b[32m references lists\u001b[0m\u001b[32m(\u001b[0m\u001b[32muser_id\u001b[0m\u001b[32m)\u001b[0m\u001b[32m\\n\u001b[0m\u001b[32m)\u001b[0m\u001b[32m\\nCREATE TABLE ratings\\n\u001b[0m\u001b[32m(\u001b[0m\u001b[32m\\n    movie_id                INTEGER,\\n    rating_id               INTEGER,\\n    rating_url              TEXT,\\n    rating_score            INTEGER,\\n    rating_timestamp_utc    TEXT,\\n    critic                  TEXT,\\n    critic_likes            INTEGER,\\n    critic_comments         INTEGER,\\n    user_id                 INTEGER,\\n    user_trialist           INTEGER,\\n    user_subscriber         INTEGER,\\n    user_eligible_for_trial INTEGER,\\n    user_has_payment_method INTEGER,\\n    foreign key \u001b[0m\u001b[32m(\u001b[0m\u001b[32mmovie_id\u001b[0m\u001b[32m)\u001b[0m\u001b[32m references movies\u001b[0m\u001b[32m(\u001b[0m\u001b[32mmovie_id\u001b[0m\u001b[32m)\u001b[0m\u001b[32m,\\n    foreign key \u001b[0m\u001b[32m(\u001b[0m\u001b[32muser_id\u001b[0m\u001b[32m)\u001b[0m\u001b[32m references lists_users\u001b[0m\u001b[32m(\u001b[0m\u001b[32muser_id\u001b[0m\u001b[32m)\u001b[0m\u001b[32m,\\n    foreign key \u001b[0m\u001b[32m(\u001b[0m\u001b[32mrating_id\u001b[0m\u001b[32m)\u001b[0m\u001b[32m references ratings\u001b[0m\u001b[32m(\u001b[0m\u001b[32mrating_id\u001b[0m\u001b[32m)\u001b[0m\u001b[32m,\\n    foreign key \u001b[0m\u001b[32m(\u001b[0m\u001b[32muser_id\u001b[0m\u001b[32m)\u001b[0m\u001b[32m references ratings_users\u001b[0m\u001b[32m(\u001b[0m\u001b[32muser_id\u001b[0m\u001b[32m)\u001b[0m\u001b[32m\\n\u001b[0m\u001b[32m)\u001b[0m\u001b[32m\\n\\n\\n\\n# Here are some Examples on how to generate SQL statements and use column names:\\n\\nQuestion: State the most popular movie? When was it released and who is the director for the movie?\\nSQL: SELECT movie_title, movie_release_year, director_name FROM movies ORDER BY movie_popularity DESC LIMIT 1 \\n\\nQuestion: What is the name of the longest movie title? When was it released?\\nSQL: SELECT movie_title, movie_release_year FROM movies ORDER BY LENGTH\u001b[0m\u001b[32m(\u001b[0m\u001b[32mmovie_popularity\u001b[0m\u001b[32m)\u001b[0m\u001b[32m DESC LIMIT 1\\n\\nQuestion: Name movie titles released in year 1945. Sort the listing by the descending order of movie popularity.\\nSQL: SELECT movie_title FROM movies WHERE movie_release_year = 1945 ORDER BY movie_popularity DESC LIMIT 1\\n\\n\\n# Question: Name movie titles released in year 1945. Sort the listing by the descending order of movie popularity.\\n\\n# SQL: \\n\\n'\u001b[0m\n",
       "\u001b[2;32m│   \u001b[0m\u001b[1m}\u001b[0m\n",
       "\u001b[1m}\u001b[0m"
      ]
     },
     "execution_count": 12,
     "metadata": {},
     "output_type": "execute_result"
    }
   ],
   "source": [
    "merged_dataset[0]"
   ]
  }
 ],
 "metadata": {
  "kernelspec": {
   "display_name": "deep",
   "language": "python",
   "name": "python3"
  },
  "language_info": {
   "codemirror_mode": {
    "name": "ipython",
    "version": 3
   },
   "file_extension": ".py",
   "mimetype": "text/x-python",
   "name": "python",
   "nbconvert_exporter": "python",
   "pygments_lexer": "ipython3",
   "version": "3.10.14"
  }
 },
 "nbformat": 4,
 "nbformat_minor": 2
}
